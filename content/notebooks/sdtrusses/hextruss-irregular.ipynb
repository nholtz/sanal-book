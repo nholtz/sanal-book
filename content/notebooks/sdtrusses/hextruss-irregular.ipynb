{
 "cells": [
  {
   "cell_type": "markdown",
   "metadata": {},
   "source": [
    "![Figure](hextruss-irregular.svg)"
   ]
  },
  {
   "cell_type": "code",
   "execution_count": 5,
   "metadata": {},
   "outputs": [
    {
     "name": "stdout",
     "output_type": "stream",
     "text": [
      "uid   iid   jid        force\n",
      "---   ---   ---        -----\n",
      "ab    a     b           1778 C\n",
      "bc    b     c           1987 C\n",
      "cd    c     d           2222 C\n",
      "de    d     e           1988 C\n",
      "ef    e     f           1778 C\n",
      "fa    f     a           1333 C\n",
      "be    b     e          888.8 T\n",
      "cf    c     f           2221 T\n",
      "ad    a     d           2223 T\n",
      "Rax   a                   -1 \n",
      "Ray   a                   -1 \n",
      "Rfy   f                    1 \n"
     ]
    }
   ],
   "source": [
    "from sdtruss import sdtruss\n",
    "\n",
    "jc = [ ('a', 0, 0),\n",
    "       ('b', 0, 4),\n",
    "       ('c', 2, 8),\n",
    "       ('d', 6, 8.001),\n",
    "       ('e', 8, 4),\n",
    "       ('f', 8, 0),\n",
    "       ]\n",
    "\n",
    "mi = [ ('a', 'b',),\n",
    "       ('b', 'c',),\n",
    "       ('c', 'd',), \n",
    "       ('d', 'e',),\n",
    "       ('e', 'f',),\n",
    "       ('f', 'a',),\n",
    "       ('b', 'e',),\n",
    "       ('c', 'f',),\n",
    "       ('a', 'd',),\n",
    "       ]\n",
    "\n",
    "rf = [ ('a', 1, 0),             # reaction force dirns\n",
    "       ('a', 0, 1),\n",
    "       ('f', 0, 1),\n",
    "       ]\n",
    "\n",
    "jl = [ ('c', 1, 1, 0),      # joint loads (j, p, dx, dy)\n",
    "       ]\n",
    "\n",
    "sdtruss( jc, mi, rf, jl )"
   ]
  },
  {
   "cell_type": "code",
   "execution_count": null,
   "metadata": {},
   "outputs": [],
   "source": []
  }
 ],
 "metadata": {
  "kernelspec": {
   "display_name": "Python 3",
   "language": "python",
   "name": "python3"
  },
  "language_info": {
   "codemirror_mode": {
    "name": "ipython",
    "version": 3
   },
   "file_extension": ".py",
   "mimetype": "text/x-python",
   "name": "python",
   "nbconvert_exporter": "python",
   "pygments_lexer": "ipython3",
   "version": "3.6.8"
  }
 },
 "nbformat": 4,
 "nbformat_minor": 2
}
