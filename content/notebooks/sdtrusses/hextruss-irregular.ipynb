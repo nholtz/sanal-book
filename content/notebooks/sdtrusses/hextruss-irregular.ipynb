{
 "cells": [
  {
   "cell_type": "markdown",
   "metadata": {},
   "source": [
    "# Truss Stabilty Investigation by the Matrix Method of Analysis\n",
    "\n",
    "The following truss is unstable.  Instead of determining that by finding a mechanism or by\n",
    "use of the zero-load test, this section will setup a full matrix analysis."
   ]
  },
  {
   "cell_type": "markdown",
   "metadata": {},
   "source": [
    "![Figure](hextruss-irregular.svg)"
   ]
  },
  {
   "cell_type": "markdown",
   "metadata": {},
   "source": [
    "Import some utilities from a library for statically determinate 2D truss analysis."
   ]
  },
  {
   "cell_type": "code",
   "execution_count": 1,
   "metadata": {},
   "outputs": [],
   "source": [
    "from sdtruss import sdtruss, SDTError"
   ]
  },
  {
   "cell_type": "markdown",
   "metadata": {},
   "source": [
    "## Joint Coordinates\n",
    "This section specifies the _x-y_ coordinates of each joint.  Each line of input specifies\n",
    "the id of the joint and its _x_ and _y_ coordinates:"
   ]
  },
  {
   "cell_type": "code",
   "execution_count": 2,
   "metadata": {},
   "outputs": [],
   "source": [
    "jc = [ ('a', 0, 0),\n",
    "       ('b', 0, 4),\n",
    "       ('c', 2, 8),\n",
    "       ('d', 6, 8),\n",
    "       ('e', 8, 4),\n",
    "       ('f', 8, 0),\n",
    "       ]"
   ]
  },
  {
   "cell_type": "markdown",
   "metadata": {},
   "source": [
    "## Member Incidences\n",
    "This section defines each member in the truss by specifying the ids of the joints\n",
    "at either end of each member.  Each member is connected to exactly two joints."
   ]
  },
  {
   "cell_type": "code",
   "execution_count": 3,
   "metadata": {},
   "outputs": [],
   "source": [
    "mi = [ ('a', 'b',),   # there is a member from joint a to joint b, etc.\n",
    "       ('b', 'c',),\n",
    "       ('c', 'd',), \n",
    "       ('d', 'e',),\n",
    "       ('e', 'f',),\n",
    "       ('f', 'a',),\n",
    "       ('b', 'e',),\n",
    "       ('c', 'f',),\n",
    "       ('a', 'd',),\n",
    "       ]"
   ]
  },
  {
   "cell_type": "markdown",
   "metadata": {},
   "source": [
    "## Reactions\n",
    "This section specifies the reaction components.  Each line specifies one independent reaction\n",
    "by naming the joint on which it impinges and the direction of the reaction.  Directions are given\n",
    "as relative direction components.  For example, a direction component of '0,1' means a vertical\n",
    "reaction (in the $y$-direction).  A direction component of '3,4' would specify an angle of 53.13 degrees to the $x$-axis ($\\tan^{-1}{4\\over3}$ - relative components of 3 in $x$ and 4\n",
    "in $y$)."
   ]
  },
  {
   "cell_type": "code",
   "execution_count": 4,
   "metadata": {},
   "outputs": [],
   "source": [
    "rf = [ ('a', 1, 0),             # reaction force dirns - horizontal at a\n",
    "       ('a', 0, 1),             # vertical at a\n",
    "       ('f', 0, 1),\n",
    "       ]"
   ]
  },
  {
   "cell_type": "markdown",
   "metadata": {},
   "source": [
    "## Joint Loads\n",
    "Joint loads arfe specified by naming the joint, providing the magnitude, and direction components\n",
    "in which it acts."
   ]
  },
  {
   "cell_type": "code",
   "execution_count": 5,
   "metadata": {},
   "outputs": [],
   "source": [
    "jl = [ ('c', 1, 1, 0),      # joint loads (j, p, dx, dy) - this is a unit load at c, in x-direction\n",
    "       ]"
   ]
  },
  {
   "cell_type": "markdown",
   "metadata": {},
   "source": [
    "## Analysis\n",
    "Now we analyze by providing the above data to the library function."
   ]
  },
  {
   "cell_type": "code",
   "execution_count": 6,
   "metadata": {},
   "outputs": [
    {
     "name": "stdout",
     "output_type": "stream",
     "text": [
      "**** Error: 'C' matrix is rank deficient.  Truss is unstable.\n"
     ]
    }
   ],
   "source": [
    "try:\n",
    "    sdtruss( jc, mi, rf, jl )\n",
    "except SDTError as err:\n",
    "    print('**** Error: {0}'.format(err))"
   ]
  },
  {
   "cell_type": "markdown",
   "metadata": {},
   "source": [
    "We see above the the rank-check of the matrix failed.  The rank of the coefficient matrix was less than\n",
    "the number of columns and thus no solution was possible."
   ]
  },
  {
   "cell_type": "markdown",
   "metadata": {},
   "source": [
    "## Change the Geometry\n",
    "Here we see a very small change made to the geometry, by moving joint _c_ up 1mm."
   ]
  },
  {
   "cell_type": "code",
   "execution_count": 7,
   "metadata": {},
   "outputs": [],
   "source": [
    "jc = [ ('a', 0, 0),\n",
    "       ('b', 0, 4),\n",
    "       ('c', 2, 8.001),\n",
    "       ('d', 6, 8),\n",
    "       ('e', 8, 4),\n",
    "       ('f', 8, 0),\n",
    "       ]"
   ]
  },
  {
   "cell_type": "code",
   "execution_count": 8,
   "metadata": {},
   "outputs": [
    {
     "name": "stdout",
     "output_type": "stream",
     "text": [
      "unknown  joint-i  joint-j        force\n",
      "-------  -------  -------        -----\n",
      "ab       a        b               1779 T\n",
      "bc       b        c               1988 T\n",
      "cd       c        d               2222 T\n",
      "de       d        e               1988 T\n",
      "ef       e        f               1778 T\n",
      "fa       f        a               1334 T\n",
      "be       b        e              889.1 C\n",
      "cf       c        f               2224 C\n",
      "ad       a        d               2222 C\n",
      "Rax      a                          -1  @ 1,0\n",
      "Ray      a                          -1  @ 0,1\n",
      "Rfy      f                           1  @ 0,1\n"
     ]
    }
   ],
   "source": [
    "try:\n",
    "    sdtruss( jc, mi, rf, jl )\n",
    "except SDTError as err:\n",
    "    print('**** Error: {0}'.format(err))"
   ]
  },
  {
   "cell_type": "markdown",
   "metadata": {},
   "source": [
    "Mathematically, the truss is no longer unstable, but notice the very large member forces (compared\n",
    "to the small applied load).  Forces were amplified by about a factor of 2000.  This demonstrates\n",
    "that trusses that are unstable or nearly so will have very high member forces, leading to large distortions and geometry changes.  This is very undesireable in a civil engineering structure."
   ]
  },
  {
   "cell_type": "code",
   "execution_count": null,
   "metadata": {},
   "outputs": [],
   "source": []
  }
 ],
 "metadata": {
  "kernelspec": {
   "display_name": "Python 3",
   "language": "python",
   "name": "python3"
  },
  "language_info": {
   "codemirror_mode": {
    "name": "ipython",
    "version": 3
   },
   "file_extension": ".py",
   "mimetype": "text/x-python",
   "name": "python",
   "nbconvert_exporter": "python",
   "pygments_lexer": "ipython3",
   "version": "3.6.8"
  }
 },
 "nbformat": 4,
 "nbformat_minor": 2
}
