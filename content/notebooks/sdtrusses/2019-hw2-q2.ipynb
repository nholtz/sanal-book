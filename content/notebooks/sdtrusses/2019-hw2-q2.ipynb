{
 "cells": [
  {
   "cell_type": "markdown",
   "metadata": {},
   "source": [
    "# Statitically Determinate 2D Trusses\n",
    "## 2019 HW2 Q2"
   ]
  },
  {
   "cell_type": "markdown",
   "metadata": {},
   "source": [
    "![Figure](2019-hw2-q2.svg)"
   ]
  },
  {
   "cell_type": "code",
   "execution_count": 1,
   "metadata": {},
   "outputs": [],
   "source": [
    "from sdtruss import sdtruss"
   ]
  },
  {
   "cell_type": "code",
   "execution_count": 4,
   "metadata": {},
   "outputs": [
    {
     "name": "stdout",
     "output_type": "stream",
     "text": [
      "uid   iid   jid        force\n",
      "---   ---   ---        -----\n",
      "ab    a     b             15 C\n",
      "bc    b     c             75 C\n",
      "ad    a     d          6.667 C\n",
      "bd    b     d            100 C\n",
      "af    a     f          16.41 T\n",
      "ce    c     e            125 T\n",
      "cf    c     f            100 C\n",
      "de    d     e             60 T\n",
      "ef    e     f             15 C\n",
      "Rfx   f           -2.132e-14 \n",
      "Rfy   f                93.33 \n",
      "Rdy   d                86.67 \n"
     ]
    }
   ],
   "source": [
    "jc = [ ('a', 0, 4),           # joint coordinates (j,x,y)\n",
    "       ('b', 3, 4),\n",
    "       ('c', 9, 4),\n",
    "       ('d', 0, 0),\n",
    "       ('e', 6, 0),\n",
    "       ('f', 9, 0),\n",
    "       ]\n",
    "\n",
    "mi = [ ('a','b'),               # member incidences (i,j)\n",
    "       ('b','c'),\n",
    "       ('a','d'),\n",
    "       ('b','d'),\n",
    "       ('a','f'),\n",
    "       ('c','e'),\n",
    "       ('c','f'),\n",
    "       ('d','e'),\n",
    "       ('e','f'),\n",
    "       ]\n",
    "\n",
    "rf = [ ('f',1,0),             # reaction forces (j,dcx,dcy)\n",
    "       ('f',0,1),\n",
    "       ('d',0,1),\n",
    "       ]\n",
    "\n",
    "jl = [ ('b',80,0,-1),        # joint loads (j,p,dcx,dcy),\n",
    "       ('e',100,0,-1),\n",
    "       ]\n",
    "\n",
    "sdtruss( jc, mi, rf, jl )\n"
   ]
  },
  {
   "cell_type": "code",
   "execution_count": null,
   "metadata": {},
   "outputs": [],
   "source": []
  }
 ],
 "metadata": {
  "kernelspec": {
   "display_name": "Python 3",
   "language": "python",
   "name": "python3"
  },
  "language_info": {
   "codemirror_mode": {
    "name": "ipython",
    "version": 3
   },
   "file_extension": ".py",
   "mimetype": "text/x-python",
   "name": "python",
   "nbconvert_exporter": "python",
   "pygments_lexer": "ipython3",
   "version": "3.6.8"
  }
 },
 "nbformat": 4,
 "nbformat_minor": 2
}
