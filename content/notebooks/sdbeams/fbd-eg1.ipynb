{
 "cells": [
  {
   "cell_type": "markdown",
   "metadata": {},
   "source": [
    "# 2: Determinate Beams and Frames\n",
    "## 2.5: Beam Reactions Example\n",
    "\n",
    "Consider the following beam structure, below which is shown the overall FBD.\n",
    "\n",
    "![FBD 0](../../images/sdbeams/fbd/drawing-1.svg)\n",
    "\n",
    "There are 4 unknown reactions - the 3 available equations of equilibrium are not sufficient to solve for the reactions."
   ]
  },
  {
   "cell_type": "markdown",
   "metadata": {},
   "source": [
    "### 2.5.1: Free Body Diagram of Part b-c-d-e\n",
    "\n",
    "The pin at point $b$ requires the internal bending moment at that point to be 0.  That allows us to\n",
    "split the structure at that spot to develop an additional FBD.  It only adds 2 additional unknowns\n",
    "(horizontal and vertical force at $b$) and so the three additional equilibrium equations will now\n",
    "be sufficient.\n",
    "\n",
    "We choose a side that involves only one unknown in an equation, allowing us to solve for\n",
    "that unknown immediately; here the right side:"
   ]
  },
  {
   "cell_type": "markdown",
   "metadata": {},
   "source": [
    "![FBD 1](../../images/sdbeams/fbd/drawing-2.svg)"
   ]
  },
  {
   "cell_type": "code",
   "execution_count": 1,
   "metadata": {},
   "outputs": [],
   "source": [
    "from sympy import symbols,solve\n",
    "from sympy.physics.units import m,newton,force,kilo,Quantity\n",
    "kilonewton = kilonewtons = kN = Quantity(\"kilonewton\", \"kN\")\n",
    "kN.set_dimension(force)\n",
    "kN.set_scale_factor(kilo*newton)"
   ]
  },
  {
   "cell_type": "code",
   "execution_count": 2,
   "metadata": {},
   "outputs": [],
   "source": [
    "Hb,Vb,Vd = symbols('H_b V_b V_d')"
   ]
  },
  {
   "cell_type": "markdown",
   "metadata": {},
   "source": [
    "### $\\sum M_b = 0~~~~~+ccw$"
   ]
  },
  {
   "cell_type": "code",
   "execution_count": 3,
   "metadata": {},
   "outputs": [
    {
     "data": {
      "text/plain": [
       "-1156*kilonewton*meter + 6*meter*V_d"
      ]
     },
     "execution_count": 3,
     "metadata": {},
     "output_type": "execute_result"
    }
   ],
   "source": [
    "sum_Mb = -65*kN*4*m  - 28*kN/m*(6*m+2*m)*(6*m+2*m)/2 + Vd*6*m\n",
    "sum_Mb"
   ]
  },
  {
   "cell_type": "code",
   "execution_count": 4,
   "metadata": {},
   "outputs": [
    {
     "data": {
      "text/plain": [
       "192.666666666667*kilonewton"
      ]
     },
     "execution_count": 4,
     "metadata": {},
     "output_type": "execute_result"
    }
   ],
   "source": [
    "Vd = solve(sum_Mb,Vd)[0].n()\n",
    "Vd"
   ]
  },
  {
   "cell_type": "markdown",
   "metadata": {},
   "source": [
    "### $\\sum F_y = 0~~~~~+\\uparrow$"
   ]
  },
  {
   "cell_type": "code",
   "execution_count": 5,
   "metadata": {},
   "outputs": [
    {
     "data": {
      "text/plain": [
       "-96.3333333333333*kilonewton + V_b"
      ]
     },
     "execution_count": 5,
     "metadata": {},
     "output_type": "execute_result"
    }
   ],
   "source": [
    "sum_Fy = Vb - 28*kN/m*(6*m+2*m) - 65*kN + Vd\n",
    "sum_Fy"
   ]
  },
  {
   "cell_type": "code",
   "execution_count": 6,
   "metadata": {},
   "outputs": [
    {
     "data": {
      "text/plain": [
       "96.3333333333333*kilonewton"
      ]
     },
     "execution_count": 6,
     "metadata": {},
     "output_type": "execute_result"
    }
   ],
   "source": [
    "Vb = solve(sum_Fy,Vb)[0].n()\n",
    "Vb"
   ]
  },
  {
   "cell_type": "markdown",
   "metadata": {},
   "source": [
    "### $\\sum F_x = 0~~~~~+ \\rightarrow$"
   ]
  },
  {
   "cell_type": "code",
   "execution_count": 7,
   "metadata": {},
   "outputs": [
    {
     "data": {
      "text/plain": [
       "0"
      ]
     },
     "execution_count": 7,
     "metadata": {},
     "output_type": "execute_result"
    }
   ],
   "source": [
    "sum_Fx = Hb\n",
    "Hb = solve(sum_Fx,Hb)[0].n()\n",
    "Hb"
   ]
  },
  {
   "cell_type": "code",
   "execution_count": 8,
   "metadata": {},
   "outputs": [
    {
     "data": {
      "text/plain": [
       "(192.666666666667, 96.3333333333333, 0)"
      ]
     },
     "execution_count": 8,
     "metadata": {},
     "output_type": "execute_result"
    }
   ],
   "source": [
    "Vd/kN, Vb/kN, Hb/kN"
   ]
  },
  {
   "cell_type": "markdown",
   "metadata": {},
   "source": [
    "### 2.5.2: Free Body Diagram of part a-b\n",
    "![FBD a-b](../../images/sdbeams/fbd/drawing-3.svg)"
   ]
  },
  {
   "cell_type": "code",
   "execution_count": 9,
   "metadata": {},
   "outputs": [],
   "source": [
    "Ha,Ma,Va = symbols('H_a M_a V_a')"
   ]
  },
  {
   "cell_type": "markdown",
   "metadata": {},
   "source": [
    "### $\\sum F_x = 0~~~~~+\\rightarrow$"
   ]
  },
  {
   "cell_type": "code",
   "execution_count": 10,
   "metadata": {},
   "outputs": [
    {
     "data": {
      "text/plain": [
       "0"
      ]
     },
     "execution_count": 10,
     "metadata": {},
     "output_type": "execute_result"
    }
   ],
   "source": [
    "sum_Fx = Ha - Hb\n",
    "Ha = solve(sum_Fx,Ha)[0].n()\n",
    "Ha"
   ]
  },
  {
   "cell_type": "markdown",
   "metadata": {},
   "source": [
    "### $\\sum F_y = 0~~~~~+\\uparrow$"
   ]
  },
  {
   "cell_type": "code",
   "execution_count": 11,
   "metadata": {},
   "outputs": [
    {
     "data": {
      "text/plain": [
       "320.333333333333*kilonewton"
      ]
     },
     "execution_count": 11,
     "metadata": {},
     "output_type": "execute_result"
    }
   ],
   "source": [
    "sum_Fy = Va - 28*(kN/m)*8*m - Vb\n",
    "Va = solve(sum_Fy,Va)[0].n()\n",
    "Va"
   ]
  },
  {
   "cell_type": "markdown",
   "metadata": {},
   "source": [
    "### $\\sum M_a = 0~~~~~+ ccw$"
   ]
  },
  {
   "cell_type": "code",
   "execution_count": 12,
   "metadata": {},
   "outputs": [
    {
     "data": {
      "text/plain": [
       "1666.66666666667*kilonewton*meter"
      ]
     },
     "execution_count": 12,
     "metadata": {},
     "output_type": "execute_result"
    }
   ],
   "source": [
    "sum_Ma = Ma - 28*(kN/m)*8*m*8*m/2 - Vb*8*m\n",
    "Ma = solve(sum_Ma,Ma)[0].n()\n",
    "Ma"
   ]
  },
  {
   "cell_type": "markdown",
   "metadata": {},
   "source": [
    "### 2.5.3: Equilibrium Check\n",
    "\n",
    "We can use a third FBD as an equilibrium check.  It is not an independent FBD but it will at\n",
    "least check for some numerical errors, giving us some confidence that the work is correct.\n",
    "\n",
    "![Entire Beam FBD](../../images/sdbeams/fbd/drawing-4.svg)"
   ]
  },
  {
   "cell_type": "markdown",
   "metadata": {},
   "source": [
    "### $\\sum F_x~~~~~+ \\rightarrow$"
   ]
  },
  {
   "cell_type": "code",
   "execution_count": 13,
   "metadata": {},
   "outputs": [
    {
     "data": {
      "text/plain": [
       "0"
      ]
     },
     "execution_count": 13,
     "metadata": {},
     "output_type": "execute_result"
    }
   ],
   "source": [
    "Ha"
   ]
  },
  {
   "cell_type": "markdown",
   "metadata": {},
   "source": [
    "### $\\sum F_y~~~~~+ \\uparrow$"
   ]
  },
  {
   "cell_type": "code",
   "execution_count": 14,
   "metadata": {},
   "outputs": [
    {
     "data": {
      "text/plain": [
       "0"
      ]
     },
     "execution_count": 14,
     "metadata": {},
     "output_type": "execute_result"
    }
   ],
   "source": [
    "Va + Vd - 28*(kN/m)*(14*m+2*m) - 65*kN"
   ]
  },
  {
   "cell_type": "markdown",
   "metadata": {},
   "source": [
    "### $\\sum M_e~~~~~+ccw$"
   ]
  },
  {
   "cell_type": "code",
   "execution_count": 15,
   "metadata": {},
   "outputs": [
    {
     "data": {
      "text/plain": [
       "6.25277607468888e-13*kilonewton*meter"
      ]
     },
     "execution_count": 15,
     "metadata": {},
     "output_type": "execute_result"
    }
   ],
   "source": [
    "Ma + 28*(kN/m)*(14*m+2*m)*(14*m+2*m)/2 + 65*kN*(2*m+2*m) - Va*(14*m+2*m) - Vd*2*m"
   ]
  },
  {
   "cell_type": "markdown",
   "metadata": {},
   "source": [
    "$6.25 \\times 10^{-13}$ is easily close enough to zero, attributable to normal floating point truncation errors."
   ]
  },
  {
   "cell_type": "markdown",
   "metadata": {},
   "source": [
    "**Note:** If you were using manual calculations and the numeric valies of $M_a$, $V_a$ and $V_d$ rounded to 4 significant\n",
    "figures, this last equilibrium check would give something quite a bit further from zero, but still acceptable."
   ]
  },
  {
   "cell_type": "code",
   "execution_count": null,
   "metadata": {},
   "outputs": [],
   "source": []
  }
 ],
 "metadata": {
  "kernelspec": {
   "display_name": "Python 3",
   "language": "python",
   "name": "python3"
  },
  "language_info": {
   "codemirror_mode": {
    "name": "ipython",
    "version": 3
   },
   "file_extension": ".py",
   "mimetype": "text/x-python",
   "name": "python",
   "nbconvert_exporter": "python",
   "pygments_lexer": "ipython3",
   "version": "3.6.8"
  }
 },
 "nbformat": 4,
 "nbformat_minor": 2
}
