{
 "cells": [
  {
   "cell_type": "markdown",
   "metadata": {},
   "source": [
    "#  2: Determinate Beams and Frames\n",
    "## 2.4: Demonstration of Equilibrium for a Beam Structure\n",
    "\n",
    "Consider the following beam structure.  Below, we will modify this structure to be statically determinate,\n",
    "but for now just consider it as is show here:\n",
    "\n",
    "![Beam Structure](../../images/sdbeams/eq/eq-demo-2-01.svg)"
   ]
  },
  {
   "cell_type": "markdown",
   "metadata": {},
   "source": [
    "We will define some specific values for the parametewrs and draw a Free Body Diagram.  At the left end (point $a$)\n",
    "there is complete fixity (against horizontal and vertical displacements, as well as against rotation),\n",
    "so there are correspondingly three forces/moments, ($F_a$, $V_a$ and $M_a$).  At the right end\n",
    "(point $c$) there is only a constraint against vertical displacement and so there is one \n",
    "vertical force, $V_c$, at that point.\n",
    "\n",
    "![Beam FBD](../../images/sdbeams/eq/eq-demo-2-02.svg)"
   ]
  },
  {
   "cell_type": "markdown",
   "metadata": {},
   "source": [
    "In the above FBD, there are 4 unknown forces shown, but we have only 3 equations of\n",
    "equilibrium available on that FBD.  That means the structure as shown\n",
    "is _statically indeterminate_.  That also means there are an infinite number of sets of forces that satisfy\n",
    "the equations of equilibrium.  To demonstrate that, we will show 2 sets of them:\n",
    "\n",
    "![EQ Soln 1](../../images/sdbeams/eq/eq-demo-2-03.svg)"
   ]
  },
  {
   "cell_type": "markdown",
   "metadata": {},
   "source": [
    "The above forces are in equilibrium:"
   ]
  },
  {
   "cell_type": "code",
   "execution_count": 1,
   "metadata": {},
   "outputs": [
    {
     "data": {
      "text/plain": [
       "0"
      ]
     },
     "execution_count": 1,
     "metadata": {},
     "output_type": "execute_result"
    }
   ],
   "source": [
    "0       # sum Fx, +ive right"
   ]
  },
  {
   "cell_type": "code",
   "execution_count": 2,
   "metadata": {},
   "outputs": [
    {
     "data": {
      "text/plain": [
       "0"
      ]
     },
     "execution_count": 2,
     "metadata": {},
     "output_type": "execute_result"
    }
   ],
   "source": [
    "+50 + 50 - 100     # sum Fy, +ive up"
   ]
  },
  {
   "cell_type": "code",
   "execution_count": 3,
   "metadata": {},
   "outputs": [
    {
     "data": {
      "text/plain": [
       "0"
      ]
     },
     "execution_count": 3,
     "metadata": {},
     "output_type": "execute_result"
    }
   ],
   "source": [
    "+200 - 50*8 + 100*2     # sum Mc, +ive ccw"
   ]
  },
  {
   "cell_type": "markdown",
   "metadata": {},
   "source": [
    "But so is the following set of forces:\n",
    "\n",
    "![EQ Soln 2](../../images/sdbeams/eq/eq-demo-2-04.svg)"
   ]
  },
  {
   "cell_type": "code",
   "execution_count": 4,
   "metadata": {},
   "outputs": [
    {
     "data": {
      "text/plain": [
       "0"
      ]
     },
     "execution_count": 4,
     "metadata": {},
     "output_type": "execute_result"
    }
   ],
   "source": [
    "0       # sum Fx, +ive right"
   ]
  },
  {
   "cell_type": "code",
   "execution_count": 5,
   "metadata": {},
   "outputs": [
    {
     "data": {
      "text/plain": [
       "0"
      ]
     },
     "execution_count": 5,
     "metadata": {},
     "output_type": "execute_result"
    }
   ],
   "source": [
    "+40 + 60 - 100     # sum Fy, +ive up"
   ]
  },
  {
   "cell_type": "code",
   "execution_count": 6,
   "metadata": {},
   "outputs": [
    {
     "data": {
      "text/plain": [
       "0"
      ]
     },
     "execution_count": 6,
     "metadata": {},
     "output_type": "execute_result"
    }
   ],
   "source": [
    "+120 - 40*8 + 100*2     # sum Mc, +ive ccw"
   ]
  },
  {
   "cell_type": "markdown",
   "metadata": {},
   "source": [
    "So which set of forces, if either, is 'correct'?  It depends.  You have to know more about this\n",
    "beam than has been shown so far."
   ]
  },
  {
   "cell_type": "markdown",
   "metadata": {},
   "source": [
    "## A) If it is Statically Determinate"
   ]
  },
  {
   "cell_type": "markdown",
   "metadata": {},
   "source": [
    "If there are additional conditions specified where an internal force in the beam is required to\n",
    "be a specific value, then we have additional equations of equilibrium available to us.  These are equilibrium equations we can write on a *different* FBD that do not introduce additional unknowns.\n",
    "\n",
    "For example, we might have a hinge in the beam\n",
    "at point $d$, 4m from the right support.  \n",
    "\n",
    "![FBD Right Side](../../images/sdbeams/eq/eq-demo-2-03c0.svg)"
   ]
  },
  {
   "cell_type": "markdown",
   "metadata": {},
   "source": [
    "That hinge specifies that the\n",
    "internal bending moment in the beam is known to be zero at that point, and allows us to form a FBD on one side of the pin.  We choose a side that allows us to write an equilibrium equation that contains only\n",
    "one unknown; here the right side:\n",
    "\n",
    "![FBD Right Side](../../images/sdbeams/eq/eq-demo-2-03c.svg)"
   ]
  },
  {
   "cell_type": "markdown",
   "metadata": {},
   "source": [
    "Knowing the moment is 0 at point $d$, we can write an equilibrium equation $\\sum M_d = 0$ that does not\n",
    "involve either of the two new unknowns, $H_d$ nor $V_d$:\n",
    "\n",
    "$$\n",
    "\\begin{align}\n",
    "V_c\\times 4 - 100\\times (4-2) &=& 0\\\\\n",
    "V_c &=& 50\\\\\n",
    "\\end{align}\n",
    "$$\n",
    "\n",
    "With a hinge at that location, here is the only correct set of forces (that satisfy all 4 equilibrium\n",
    "equations):\n",
    "\n",
    "![Soln 1](../../images/sdbeams/eq/eq-demo-2-03b.svg)"
   ]
  },
  {
   "cell_type": "markdown",
   "metadata": {},
   "source": [
    "That was the first set shown to be in equilibrium, above.\n",
    "\n",
    "On the other hand, if the hinge is 5m from the right support, here are the only forces that\n",
    "satisfy all 4 equilibrium equations:\n",
    "\n",
    "![Soln 2](../../images/sdbeams/eq/eq-demo-2-04b.svg)\n",
    "\n",
    "And that was the second set shown to be in equilibrium, above."
   ]
  },
  {
   "cell_type": "markdown",
   "metadata": {},
   "source": [
    "## B) If it is Statically Indeterminate\n",
    "\n",
    "On the other hand, there may be no conditions that allow for extra equilbrium equations.\n",
    "\n",
    "If that is the case we must use knowledge of the elastic properties of the beam and this will\n",
    "allow us to develope a *compatibility* equation to choose a set of forces such that the beam\n",
    "deflections are correct.\n",
    "\n",
    "For example, if there were no internal hinge, we could work out the vertical deflection at point\n",
    "$c$ for each of the set of forces above.  It is quite likely that the resulting deflection would not be zero,\n",
    "but we know it should be (the support constrains the vertical deflection to be zero).  In that case,\n",
    "neither set of forces is correct."
   ]
  },
  {
   "cell_type": "markdown",
   "metadata": {},
   "source": [
    "We will use the method of 'consistent deformation' with displacements calculated by the\n",
    "method of 'virtual work'.\n",
    "\n",
    "> **Note:** the following is very briefly described.  It will be improved at sometime in the future."
   ]
  },
  {
   "cell_type": "markdown",
   "metadata": {},
   "source": [
    "![Beam Structure](../../images/sdbeams/eq/eq-demo-2-01.svg)"
   ]
  },
  {
   "cell_type": "markdown",
   "metadata": {},
   "source": [
    "![Beam Structure](../../images/sdbeams/eq/eq-demo-2-05.svg)"
   ]
  },
  {
   "cell_type": "code",
   "execution_count": 7,
   "metadata": {},
   "outputs": [],
   "source": [
    "from sympy import symbols, solve, integrate, init_printing\n",
    "init_printing()"
   ]
  },
  {
   "cell_type": "code",
   "execution_count": 8,
   "metadata": {},
   "outputs": [],
   "source": [
    "EI,L,P,d,x,Vc = symbols('EI L P d x V_c')"
   ]
  },
  {
   "cell_type": "markdown",
   "metadata": {},
   "source": [
    "Expressions for bending moments in the released structure, $M$ (due to the real loads),\n",
    "and $m$ (due to virtual loads), as functions of $x$, the distance from the right support."
   ]
  },
  {
   "cell_type": "code",
   "execution_count": 9,
   "metadata": {},
   "outputs": [
    {
     "data": {
      "image/png": "[encoded data removed]",
      "text/latex": [
       "$$- P \\left(- d + x\\right)$$"
      ],
      "text/plain": [
       "-P⋅(-d + x)"
      ]
     },
     "execution_count": 9,
     "metadata": {},
     "output_type": "execute_result"
    }
   ],
   "source": [
    "M = -P*(x-d)\n",
    "M"
   ]
  },
  {
   "cell_type": "code",
   "execution_count": 10,
   "metadata": {},
   "outputs": [
    {
     "data": {
      "image/png": "[encoded data removed]",
      "text/latex": [
       "$$x$$"
      ],
      "text/plain": [
       "x"
      ]
     },
     "execution_count": 10,
     "metadata": {},
     "output_type": "execute_result"
    }
   ],
   "source": [
    "m = x\n",
    "m"
   ]
  },
  {
   "cell_type": "markdown",
   "metadata": {},
   "source": [
    "'Delta' is the displacement in the released structure due to the real loads.  The +ive direction is\n",
    "the direction of the unit virtual load."
   ]
  },
  {
   "cell_type": "code",
   "execution_count": 11,
   "metadata": {},
   "outputs": [
    {
     "data": {
      "image/png": "[encoded data removed]",
      "text/latex": [
       "$$- \\frac{L^{3} P}{3 EI} + \\frac{L^{2} P d}{2 EI} - \\frac{P d^{3}}{6 EI}$$"
      ],
      "text/plain": [
       "   3      2          3\n",
       "  L ⋅P   L ⋅P⋅d   P⋅d \n",
       "- ──── + ────── - ────\n",
       "  3⋅EI    2⋅EI    6⋅EI"
      ]
     },
     "execution_count": 11,
     "metadata": {},
     "output_type": "execute_result"
    }
   ],
   "source": [
    "Delta = integrate(m*M/EI,(x,d,L))\n",
    "Delta"
   ]
  },
  {
   "cell_type": "markdown",
   "metadata": {},
   "source": [
    "'delta' is the displacement in the released structure due to a unit value of the redundant force (the\n",
    "vertical reaction at $c$)"
   ]
  },
  {
   "cell_type": "code",
   "execution_count": 12,
   "metadata": {},
   "outputs": [
    {
     "data": {
      "image/png": "[encoded data removed]",
      "text/latex": [
       "$$\\frac{L^{3}}{3 EI}$$"
      ],
      "text/plain": [
       "  3 \n",
       " L  \n",
       "────\n",
       "3⋅EI"
      ]
     },
     "execution_count": 12,
     "metadata": {},
     "output_type": "execute_result"
    }
   ],
   "source": [
    "delta = integrate(m*m/EI,(x,0,L))\n",
    "delta"
   ]
  },
  {
   "cell_type": "markdown",
   "metadata": {},
   "source": [
    "Write a compatibility equation for displacement at point $c$ (that displacement is 0, so\n",
    "this calculates the value of the reaction at $c$ that makes it so):"
   ]
  },
  {
   "cell_type": "code",
   "execution_count": 13,
   "metadata": {},
   "outputs": [
    {
     "data": {
      "image/png": "[encoded data removed]",
      "text/latex": [
       "$$P - \\frac{3 P d}{2 L} + \\frac{P d^{3}}{2 L^{3}}$$"
      ],
      "text/plain": [
       "               3\n",
       "    3⋅P⋅d   P⋅d \n",
       "P - ───── + ────\n",
       "     2⋅L       3\n",
       "            2⋅L "
      ]
     },
     "execution_count": 13,
     "metadata": {},
     "output_type": "execute_result"
    }
   ],
   "source": [
    "eqn = Delta + Vc*delta\n",
    "soln = solve(eqn,Vc)[0]\n",
    "soln"
   ]
  },
  {
   "cell_type": "markdown",
   "metadata": {},
   "source": [
    "Substitute numerical values for the parameters to get a numerical\n",
    "value for the reaction at $c$:"
   ]
  },
  {
   "cell_type": "code",
   "execution_count": 14,
   "metadata": {},
   "outputs": [
    {
     "data": {
      "image/png": "[encoded data removed]",
      "text/latex": [
       "$$63.28125$$"
      ],
      "text/plain": [
       "63.2812500000000"
      ]
     },
     "execution_count": 14,
     "metadata": {},
     "output_type": "execute_result"
    }
   ],
   "source": [
    "rVc = soln.subs({L:8,d:2,P:100}).n()\n",
    "rVc"
   ]
  },
  {
   "cell_type": "markdown",
   "metadata": {},
   "source": [
    "Now write 3 equilbrium equations and solve them for the remaing 3 reactions:"
   ]
  },
  {
   "cell_type": "code",
   "execution_count": 15,
   "metadata": {},
   "outputs": [],
   "source": [
    "Ha,Va,Ma = symbols('H_a V_a M_a')"
   ]
  },
  {
   "cell_type": "code",
   "execution_count": 16,
   "metadata": {},
   "outputs": [],
   "source": [
    "eqns = [Ha,                      # sum Fx, +ive right\n",
    "       Va + Vc - P,              # sum Fy, +ive up\n",
    "       Ma + Vc*L - P*(L-d)]      # sum M about a, +ive ccw"
   ]
  },
  {
   "cell_type": "code",
   "execution_count": 17,
   "metadata": {},
   "outputs": [
    {
     "data": {
      "image/png": "[encoded data removed]",
      "text/latex": [
       "$$\\left \\{ H_{a} : 0, \\quad M_{a} : L P - L V_{c} - P d, \\quad V_{a} : P - V_{c}\\right \\}$$"
      ],
      "text/plain": [
       "{Hₐ: 0, Mₐ: L⋅P - L⋅V_c - P⋅d, Vₐ: P - V_c}"
      ]
     },
     "execution_count": 17,
     "metadata": {},
     "output_type": "execute_result"
    }
   ],
   "source": [
    "solns = solve(eqns,[Ha,Va,Ma])\n",
    "solns"
   ]
  },
  {
   "cell_type": "markdown",
   "metadata": {},
   "source": [
    "And substitute the parameters to get numerical values:"
   ]
  },
  {
   "cell_type": "code",
   "execution_count": 18,
   "metadata": {},
   "outputs": [
    {
     "data": {
      "image/png": "[encoded data removed]",
      "text/latex": [
       "$$\\left \\{ H_{a} : 0, \\quad M_{a} : 93.75, \\quad V_{a} : 36.71875\\right \\}$$"
      ],
      "text/plain": [
       "{Hₐ: 0, Mₐ: 93.75, Vₐ: 36.71875}"
      ]
     },
     "execution_count": 18,
     "metadata": {},
     "output_type": "execute_result"
    }
   ],
   "source": [
    "{s:v.subs({L:8,d:2,P:100,Vc:rVc}) for s,v in solns.items()}"
   ]
  },
  {
   "cell_type": "markdown",
   "metadata": {},
   "source": [
    "For a linearly elastic, prismatic, statically indeterminate beam, the reactions are:\n",
    "\n",
    "![Beam Structure](../../images/sdbeams/eq/eq-demo-2-06.svg)"
   ]
  },
  {
   "cell_type": "markdown",
   "metadata": {},
   "source": [
    "This shows a *third* set of forces that are in equilibrium for this beam, \n",
    "but only this set results\n",
    "in the correct displacements (0 horizontal and vertical and 0 rotational at end\n",
    "$a$ and 0 vertical at end $c$)."
   ]
  },
  {
   "cell_type": "code",
   "execution_count": null,
   "metadata": {},
   "outputs": [],
   "source": []
  }
 ],
 "metadata": {
  "kernelspec": {
   "display_name": "Python 3",
   "language": "python",
   "name": "python3"
  },
  "language_info": {
   "codemirror_mode": {
    "name": "ipython",
    "version": 3
   },
   "file_extension": ".py",
   "mimetype": "text/x-python",
   "name": "python",
   "nbconvert_exporter": "python",
   "pygments_lexer": "ipython3",
   "version": "3.6.8"
  }
 },
 "nbformat": 4,
 "nbformat_minor": 2
}
