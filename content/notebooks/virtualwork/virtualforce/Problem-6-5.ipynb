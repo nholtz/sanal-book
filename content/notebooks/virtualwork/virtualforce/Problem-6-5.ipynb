{
 "cells": [
  {
   "cell_type": "markdown",
   "metadata": {},
   "source": [
    "## Problem 6-5\n",
    "![Figure](../../../images/virtualwork/virtualforce/problems/p5.svg)\n",
    "\n",
    "![Figure](../../../images/virtualwork/virtualforce/problems/p5-soln-1.svg)"
   ]
  },
  {
   "cell_type": "code",
   "execution_count": 3,
   "metadata": {},
   "outputs": [],
   "source": [
    "import sympy\n",
    "sympy.init_printing()"
   ]
  },
  {
   "cell_type": "code",
   "execution_count": 4,
   "metadata": {},
   "outputs": [],
   "source": [
    "def intmM(L,m0,m1,M0,M1,w=0,EI=1.):\n",
    "    return (L/24.)*(m0*(w*L*L + 8.*M0 + 4.*M1) + m1*(w*L*L + 4.*M0 + 8.*M1))/EI"
   ]
  },
  {
   "cell_type": "markdown",
   "metadata": {},
   "source": [
    "### Part 1 - Determine horizontal displacement of member end d"
   ]
  },
  {
   "cell_type": "markdown",
   "metadata": {},
   "source": [
    "![Figure](../../../images/virtualwork/virtualforce/problems/p5-soln-2.svg)"
   ]
  },
  {
   "cell_type": "code",
   "execution_count": 5,
   "metadata": {},
   "outputs": [
    {
     "data": {
      "image/png": "[encoded data removed]",
      "text/latex": [
       "$$\\left ( w, \\quad L, \\quad EI\\right )$$"
      ],
      "text/plain": [
       "(w, L, EI)"
      ]
     },
     "execution_count": 5,
     "metadata": {},
     "output_type": "execute_result"
    }
   ],
   "source": [
    "sympy.var('w L EI')"
   ]
  },
  {
   "cell_type": "code",
   "execution_count": 7,
   "metadata": {},
   "outputs": [
    {
     "data": {
      "image/png": "[encoded data removed]",
      "text/latex": [
       "$$\\frac{1.125 L^{4} w}{EI}$$"
      ],
      "text/plain": [
       "       4  \n",
       "1.125⋅L ⋅w\n",
       "──────────\n",
       "    EI    "
      ]
     },
     "execution_count": 7,
     "metadata": {},
     "output_type": "execute_result"
    }
   ],
   "source": [
    "intmM(3*L,L,L,0,0,w,2*EI)"
   ]
  },
  {
   "cell_type": "markdown",
   "metadata": {},
   "source": [
    "### Part 2 - Determine the rotation of member end d\n",
    "\n",
    "![Figure](../../../images/virtualwork/virtualforce/problems/p5-soln-3.svg)"
   ]
  },
  {
   "cell_type": "code",
   "execution_count": 8,
   "metadata": {},
   "outputs": [
    {
     "data": {
      "image/png": "[encoded data removed]",
      "text/latex": [
       "$$\\frac{0.5625 L^{3} w}{EI}$$"
      ],
      "text/plain": [
       "        3  \n",
       "0.5625⋅L ⋅w\n",
       "───────────\n",
       "     EI    "
      ]
     },
     "execution_count": 8,
     "metadata": {},
     "output_type": "execute_result"
    }
   ],
   "source": [
    "intmM(3*L,0,1,0,0,w,2*EI)"
   ]
  }
 ],
 "metadata": {
  "kernelspec": {
   "display_name": "Python 3",
   "language": "python",
   "name": "python3"
  },
  "language_info": {
   "codemirror_mode": {
    "name": "ipython",
    "version": 3
   },
   "file_extension": ".py",
   "mimetype": "text/x-python",
   "name": "python",
   "nbconvert_exporter": "python",
   "pygments_lexer": "ipython3",
   "version": "3.6.8"
  }
 },
 "nbformat": 4,
 "nbformat_minor": 2
}
