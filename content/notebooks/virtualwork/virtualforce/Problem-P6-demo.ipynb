{
 "cells": [
  {
   "cell_type": "markdown",
   "metadata": {},
   "source": [
    "## Problem 6-6"
   ]
  },
  {
   "cell_type": "code",
   "execution_count": 1,
   "metadata": {},
   "outputs": [],
   "source": [
    "def intmM(L,m0,m1,M0,M1,w=0,EI=1.):\n",
    "    return (L/24.)*(m0*(w*L*L + 8.*M0 + 4.*M1) + m1*(w*L*L + 4.*M0 + 8.*M1))/EI"
   ]
  },
  {
   "cell_type": "markdown",
   "metadata": {},
   "source": [
    "![Figure](../../../../images/virtualwork/virtualforce/problems/p6-soln-1.svg)"
   ]
  },
  {
   "cell_type": "code",
   "execution_count": 2,
   "metadata": {},
   "outputs": [
    {
     "data": {
      "text/plain": [
       "-0.001074074074074074"
      ]
     },
     "execution_count": 2,
     "metadata": {},
     "output_type": "execute_result"
    }
   ],
   "source": [
    "# units are kN and m\n",
    "EI = 90000 # kN m^2\n",
    "intmM( L=2, m0=0, m1=3, M0=0, M1=-30, EI=EI) + \\\n",
    "intmM( L=3, m0=3, m1=0, M0=-30, M1=0, EI=EI ) + \\\n",
    "intmM( L=2, m0=0, m1=-2, M0=0, M1=-20, EI=EI ) + \\\n",
    "intmM( L=2, m0=-2, m1=0, M0=-20, M1=0, EI=EI )"
   ]
  },
  {
   "cell_type": "markdown",
   "metadata": {},
   "source": [
    "This confirms the \"manual\" solution"
   ]
  },
  {
   "cell_type": "code",
   "execution_count": null,
   "metadata": {},
   "outputs": [],
   "source": []
  }
 ],
 "metadata": {
  "kernelspec": {
   "display_name": "Python 3",
   "language": "python",
   "name": "python3"
  },
  "language_info": {
   "codemirror_mode": {
    "name": "ipython",
    "version": 3
   },
   "file_extension": ".py",
   "mimetype": "text/x-python",
   "name": "python",
   "nbconvert_exporter": "python",
   "pygments_lexer": "ipython3",
   "version": "3.6.8"
  }
 },
 "nbformat": 4,
 "nbformat_minor": 2
}
