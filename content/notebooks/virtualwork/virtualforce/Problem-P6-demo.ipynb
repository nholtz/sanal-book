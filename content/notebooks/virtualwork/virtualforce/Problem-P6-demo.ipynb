{
 "cells": [
  {
   "cell_type": "markdown",
   "metadata": {},
   "source": [
    "## Problem 6-6"
   ]
  },
  {
   "cell_type": "code",
   "execution_count": 1,
   "metadata": {},
   "outputs": [],
   "source": [
    "class MDiag(object):\n",
    "    \n",
    "    def __init__(self,L,m0,m1=0.,w=0.):\n",
    "        self.L = L\n",
    "        self.m0 = m0\n",
    "        self.m1 = m1\n",
    "        self.w = w\n",
    "        \n",
    "def intmM(m,M,EI=1.):\n",
    "    assert isinstance(m,MDiag),\"Arguments must be instances of MDiag\"\n",
    "    assert isinstance(M,MDiag),\"Arguments must be instances of MDiag\"\n",
    "    assert m.L == M.L,\"Lengths of MDiags must be equal\"\n",
    "    assert m.w == 0.,\"Virtual MDiag cannot have a UDL - w must be 0.\"\n",
    "    L = m.L\n",
    "    m0 = m.m0\n",
    "    m1 = m.m1\n",
    "    M0 = M.m0\n",
    "    M1 = M.m1\n",
    "    w = M.w\n",
    "    return (L/24.)*(m0*(w*L*L+8.*M0+4.*M1) + m1*(w*L*L+4.*M0+8.*M1))/EI"
   ]
  },
  {
   "cell_type": "markdown",
   "metadata": {},
   "source": [
    "![Figure](../../../../images/virtualwork/virtualforce/problems/p6-soln-1.svg)"
   ]
  },
  {
   "cell_type": "code",
   "execution_count": 3,
   "metadata": {},
   "outputs": [
    {
     "data": {
      "text/plain": [
       "-0.001074074074074074"
      ]
     },
     "execution_count": 3,
     "metadata": {},
     "output_type": "execute_result"
    }
   ],
   "source": [
    "# units are kN and m\n",
    "EI = 90000.\n",
    "intmM(MDiag(2,0,3),MDiag(2,0,-30),EI) + \\\n",
    "intmM(MDiag(3,3,0),MDiag(3,-30,0),EI) + \\\n",
    "intmM(MDiag(2,0,-2),MDiag(2,0,-20),EI) + \\\n",
    "intmM(MDiag(2,-2,0),MDiag(2,-20,0),EI)"
   ]
  },
  {
   "cell_type": "code",
   "execution_count": 4,
   "metadata": {},
   "outputs": [],
   "source": [
    "# this confirms the \"manual\" solution"
   ]
  },
  {
   "cell_type": "code",
   "execution_count": null,
   "metadata": {},
   "outputs": [],
   "source": []
  }
 ],
 "metadata": {
  "kernelspec": {
   "display_name": "Python 3",
   "language": "python",
   "name": "python3"
  },
  "language_info": {
   "codemirror_mode": {
    "name": "ipython",
    "version": 3
   },
   "file_extension": ".py",
   "mimetype": "text/x-python",
   "name": "python",
   "nbconvert_exporter": "python",
   "pygments_lexer": "ipython3",
   "version": "3.6.8"
  }
 },
 "nbformat": 4,
 "nbformat_minor": 2
}
