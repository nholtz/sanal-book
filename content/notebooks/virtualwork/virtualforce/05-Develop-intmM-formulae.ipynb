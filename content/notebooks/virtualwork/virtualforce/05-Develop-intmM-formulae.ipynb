{
 "cells": [
  {
   "cell_type": "markdown",
   "metadata": {},
   "source": [
    "# Values of $\\int_0^L m M dx$\n",
    "\n",
    "Some day we will have some better figures to help ...\n",
    "\n",
    "In the meantime - have a look at this:\n",
    "\n",
    "![Figure](../../../images/virtualwork/virtualforce/introduction/int-mM-general.svg)\n",
    "\n",
    "And also see [this](../../../images/virtualwork/virtualforce/beams/int-mM-sheet.pdf):"
   ]
  },
  {
   "cell_type": "code",
   "execution_count": 1,
   "metadata": {},
   "outputs": [],
   "source": [
    "from sympy import init_printing, var, solve\n",
    "init_printing()"
   ]
  },
  {
   "cell_type": "code",
   "execution_count": 2,
   "metadata": {},
   "outputs": [
    {
     "data": {
      "image/png": "[encoded data removed]",
      "text/latex": [
       "$$\\left ( m_{0}, \\quad m_{1}, \\quad M_{0}, \\quad M_{1}, \\quad V_{0}, \\quad V_{1}, \\quad x, \\quad w, \\quad EI, \\quad L\\right )$$"
      ],
      "text/plain": [
       "(m₀, m₁, M₀, M₁, V₀, V₁, x, w, EI, L)"
      ]
     },
     "execution_count": 2,
     "metadata": {},
     "output_type": "execute_result"
    }
   ],
   "source": [
    "var('m0 m1 M0 M1 V0 V1 x w EI L')"
   ]
  },
  {
   "cell_type": "markdown",
   "metadata": {},
   "source": [
    "Express virtual moment as a function of $x$, $x = 0$ at left end and increasing rightward.  Fairly simple as the virtual moment is always linear, $m_0$ at left end and $m_1$ at the right:"
   ]
  },
  {
   "cell_type": "code",
   "execution_count": 3,
   "metadata": {},
   "outputs": [
    {
     "data": {
      "image/png": "[encoded data removed]",
      "text/latex": [
       "$$m_{0} + \\frac{x \\left(- m_{0} + m_{1}\\right)}{L}$$"
      ],
      "text/plain": [
       "     x⋅(-m₀ + m₁)\n",
       "m₀ + ────────────\n",
       "          L      "
      ]
     },
     "execution_count": 3,
     "metadata": {},
     "output_type": "execute_result"
    }
   ],
   "source": [
    "mx = m0 + (m1-m0)*x/L\n",
    "mx"
   ]
  },
  {
   "cell_type": "markdown",
   "metadata": {},
   "source": [
    "Prove that this gives the correct value at the right end, by substituting $x=L$:"
   ]
  },
  {
   "cell_type": "code",
   "execution_count": 4,
   "metadata": {},
   "outputs": [
    {
     "data": {
      "image/png": "[encoded data removed]",
      "text/latex": [
       "$$m_{1}$$"
      ],
      "text/plain": [
       "m₁"
      ]
     },
     "execution_count": 4,
     "metadata": {},
     "output_type": "execute_result"
    }
   ],
   "source": [
    "mx.subs({x:L})"
   ]
  },
  {
   "cell_type": "markdown",
   "metadata": {},
   "source": [
    "Determine the shear at the left end of the real moment diagram, by solving $\\sum M = 0$ about the right end, +ive CW:"
   ]
  },
  {
   "cell_type": "code",
   "execution_count": 5,
   "metadata": {},
   "outputs": [
    {
     "data": {
      "image/png": "[encoded data removed]",
      "text/latex": [
       "$$\\frac{\\frac{L^{2} w}{2} - M_{0} + M_{1}}{L}$$"
      ],
      "text/plain": [
       " 2            \n",
       "L ⋅w          \n",
       "──── - M₀ + M₁\n",
       " 2            \n",
       "──────────────\n",
       "      L       "
      ]
     },
     "execution_count": 5,
     "metadata": {},
     "output_type": "execute_result"
    }
   ],
   "source": [
    "V = solve( M0 + V0*L - M1 - w*L*L/2, V0 )[0]\n",
    "V"
   ]
  },
  {
   "cell_type": "markdown",
   "metadata": {},
   "source": [
    "Now express real moment as a function of $x$:"
   ]
  },
  {
   "cell_type": "code",
   "execution_count": 6,
   "metadata": {},
   "outputs": [
    {
     "data": {
      "image/png": "[encoded data removed]",
      "text/latex": [
       "$$M_{0} - \\frac{w x^{2}}{2} + \\frac{x \\left(\\frac{L^{2} w}{2} - M_{0} + M_{1}\\right)}{L}$$"
      ],
      "text/plain": [
       "              ⎛ 2            ⎞\n",
       "              ⎜L ⋅w          ⎟\n",
       "        2   x⋅⎜──── - M₀ + M₁⎟\n",
       "     w⋅x      ⎝ 2            ⎠\n",
       "M₀ - ──── + ──────────────────\n",
       "      2             L         "
      ]
     },
     "execution_count": 6,
     "metadata": {},
     "output_type": "execute_result"
    }
   ],
   "source": [
    "Mx = M0 + V*x - w*x*x/2\n",
    "Mx"
   ]
  },
  {
   "cell_type": "markdown",
   "metadata": {},
   "source": [
    "Thats too complex for easy checking.  Does it at least deliver the correct value, $M_1$ at $x=L$?"
   ]
  },
  {
   "cell_type": "code",
   "execution_count": 7,
   "metadata": {},
   "outputs": [
    {
     "data": {
      "image/png": "[encoded data removed]",
      "text/latex": [
       "$$M_{1}$$"
      ],
      "text/plain": [
       "M₁"
      ]
     },
     "execution_count": 7,
     "metadata": {},
     "output_type": "execute_result"
    }
   ],
   "source": [
    "Mx.subs({x:L})"
   ]
  },
  {
   "cell_type": "markdown",
   "metadata": {},
   "source": [
    "Now integrate the product of the virtual and the real, for $x$ from $0$ to $L$:"
   ]
  },
  {
   "cell_type": "code",
   "execution_count": 8,
   "metadata": {},
   "outputs": [
    {
     "data": {
      "image/png": "[encoded data removed]",
      "text/latex": [
       "$$\\frac{L^{3} \\left(m_{0} w - m_{1} w\\right)}{8} + L M_{0} m_{0} + \\frac{L \\left(L^{2} m_{0} w - 4 M_{0} m_{0} + 2 M_{0} m_{1} + 2 M_{1} m_{0}\\right)}{4} + \\frac{L \\left(- 2 L^{2} m_{0} w + L^{2} m_{1} w + 2 M_{0} m_{0} - 2 M_{0} m_{1} - 2 M_{1} m_{0} + 2 M_{1} m_{1}\\right)}{6}$$"
      ],
      "text/plain": [
       " 3                             ⎛ 2                                   ⎞     ⎛  \n",
       "L ⋅(m₀⋅w - m₁⋅w)             L⋅⎝L ⋅m₀⋅w - 4⋅M₀⋅m₀ + 2⋅M₀⋅m₁ + 2⋅M₁⋅m₀⎠   L⋅⎝- \n",
       "──────────────── + L⋅M₀⋅m₀ + ───────────────────────────────────────── + ─────\n",
       "       8                                         4                            \n",
       "\n",
       "   2         2                                             ⎞\n",
       "2⋅L ⋅m₀⋅w + L ⋅m₁⋅w + 2⋅M₀⋅m₀ - 2⋅M₀⋅m₁ - 2⋅M₁⋅m₀ + 2⋅M₁⋅m₁⎠\n",
       "────────────────────────────────────────────────────────────\n",
       "                           6                                "
      ]
     },
     "execution_count": 8,
     "metadata": {},
     "output_type": "execute_result"
    }
   ],
   "source": [
    "I1 = (mx*Mx).integrate((x,0,L))\n",
    "I1"
   ]
  },
  {
   "cell_type": "markdown",
   "metadata": {},
   "source": [
    "Gnarly! Lets try to simplify:"
   ]
  },
  {
   "cell_type": "code",
   "execution_count": 9,
   "metadata": {},
   "outputs": [
    {
     "data": {
      "image/png": "[encoded data removed]",
      "text/latex": [
       "$$\\frac{L \\left(L^{2} m_{0} w + L^{2} m_{1} w + 8 M_{0} m_{0} + 4 M_{0} m_{1} + 4 M_{1} m_{0} + 8 M_{1} m_{1}\\right)}{24}$$"
      ],
      "text/plain": [
       "  ⎛ 2         2                                             ⎞\n",
       "L⋅⎝L ⋅m₀⋅w + L ⋅m₁⋅w + 8⋅M₀⋅m₀ + 4⋅M₀⋅m₁ + 4⋅M₁⋅m₀ + 8⋅M₁⋅m₁⎠\n",
       "─────────────────────────────────────────────────────────────\n",
       "                              24                             "
      ]
     },
     "execution_count": 9,
     "metadata": {},
     "output_type": "execute_result"
    }
   ],
   "source": [
    "I2 = I1.simplify()\n",
    "I2"
   ]
  },
  {
   "cell_type": "markdown",
   "metadata": {},
   "source": [
    "Thats quite a bit better, but we can see some additional factorizations that ```sympy``` may not be able to find on its\n",
    "own.  Lets try this one, by factoring out $m_0$ and $m_1$ manually:"
   ]
  },
  {
   "cell_type": "code",
   "execution_count": 10,
   "metadata": {},
   "outputs": [
    {
     "data": {
      "image/png": "[encoded data removed]",
      "text/latex": [
       "$$\\frac{L \\left(m_{0} \\left(L^{2} w + 8 M_{0} + 4 M_{1}\\right) + m_{1} \\left(L^{2} w + 4 M_{0} + 8 M_{1}\\right)\\right)}{24}$$"
      ],
      "text/plain": [
       "  ⎛   ⎛ 2                ⎞      ⎛ 2                ⎞⎞\n",
       "L⋅⎝m₀⋅⎝L ⋅w + 8⋅M₀ + 4⋅M₁⎠ + m₁⋅⎝L ⋅w + 4⋅M₀ + 8⋅M₁⎠⎠\n",
       "─────────────────────────────────────────────────────\n",
       "                          24                         "
      ]
     },
     "execution_count": 10,
     "metadata": {},
     "output_type": "execute_result"
    }
   ],
   "source": [
    "I3 = (L/24)*(m0*(w*L*L + 8*M0 + 4*M1) + m1*(w*L*L + 4*M0 + 8*M1))\n",
    "I3"
   ]
  },
  {
   "cell_type": "markdown",
   "metadata": {},
   "source": [
    "And confirm that they are equal:"
   ]
  },
  {
   "cell_type": "code",
   "execution_count": 11,
   "metadata": {},
   "outputs": [
    {
     "data": {
      "image/png": "[encoded data removed]",
      "text/latex": [
       "$$0$$"
      ],
      "text/plain": [
       "0"
      ]
     },
     "execution_count": 11,
     "metadata": {},
     "output_type": "execute_result"
    }
   ],
   "source": [
    "(I2-I3).simplify()"
   ]
  },
  {
   "cell_type": "markdown",
   "metadata": {},
   "source": [
    "## The Result\n",
    "\n",
    "So thats it!  Here is the formula we will use to give us the integral of the product of the most general virtual\n",
    "moment and a general real moment (subjected to a UDL only):"
   ]
  },
  {
   "cell_type": "code",
   "execution_count": 12,
   "metadata": {},
   "outputs": [
    {
     "data": {
      "image/png": "[encoded data removed]",
      "text/latex": [
       "$$\\frac{L \\left(m_{0} \\left(L^{2} w + 8 M_{0} + 4 M_{1}\\right) + m_{1} \\left(L^{2} w + 4 M_{0} + 8 M_{1}\\right)\\right)}{24}$$"
      ],
      "text/plain": [
       "  ⎛   ⎛ 2                ⎞      ⎛ 2                ⎞⎞\n",
       "L⋅⎝m₀⋅⎝L ⋅w + 8⋅M₀ + 4⋅M₁⎠ + m₁⋅⎝L ⋅w + 4⋅M₀ + 8⋅M₁⎠⎠\n",
       "─────────────────────────────────────────────────────\n",
       "                          24                         "
      ]
     },
     "execution_count": 12,
     "metadata": {},
     "output_type": "execute_result"
    }
   ],
   "source": [
    "I3"
   ]
  },
  {
   "cell_type": "markdown",
   "metadata": {},
   "source": [
    "And in a format that is suitable for copying and pasting into computer software:"
   ]
  },
  {
   "cell_type": "code",
   "execution_count": 13,
   "metadata": {},
   "outputs": [
    {
     "data": {
      "text/plain": [
       "'L*(m0*(L**2*w + 8*M0 + 4*M1) + m1*(L**2*w + 4*M0 + 8*M1))/24'"
      ]
     },
     "execution_count": 13,
     "metadata": {},
     "output_type": "execute_result"
    }
   ],
   "source": [
    "str(I3)"
   ]
  },
  {
   "cell_type": "markdown",
   "metadata": {},
   "source": [
    "## Special Cases\n",
    "\n",
    "The following generates the special case values in the [table provided by N. Holtz](../../../images/virtualwork/virtualforce/beams/int-mM-sheet.pdf)."
   ]
  },
  {
   "cell_type": "code",
   "execution_count": 14,
   "metadata": {},
   "outputs": [
    {
     "data": {
      "image/png": "[encoded data removed]",
      "text/latex": [
       "$$\\left ( m, \\quad M\\right )$$"
      ],
      "text/plain": [
       "(m, M)"
      ]
     },
     "execution_count": 14,
     "metadata": {},
     "output_type": "execute_result"
    }
   ],
   "source": [
    "var('m M')"
   ]
  },
  {
   "cell_type": "code",
   "execution_count": 15,
   "metadata": {},
   "outputs": [],
   "source": [
    "virtual_specials = [{m0:m,m1:m},{m1:0},{m0:0},{}]\n",
    "real_specials = [{w:0,M0:M,M1:M},{w:0,M1:0},{w:0,M0:0},{w:0},\n",
    "                 {M0:0,M1:0,w:8*M/(L*L)},{w:-2*M1/(L*L),M0:0},{w:2*(M0-M1)/(L*L)},]"
   ]
  },
  {
   "cell_type": "code",
   "execution_count": 16,
   "metadata": {},
   "outputs": [
    {
     "name": "stdout",
     "output_type": "stream",
     "text": [
      " \n",
      "Column 1   Row 1\n",
      "{w: 0, M0: M, M1: M}\n",
      "{m0: m, m1: m}\n"
     ]
    },
    {
     "data": {
      "image/png": "[encoded data removed]",
      "text/latex": [
       "$$L M m$$"
      ],
      "text/plain": [
       "L⋅M⋅m"
      ]
     },
     "metadata": {},
     "output_type": "display_data"
    },
    {
     "name": "stdout",
     "output_type": "stream",
     "text": [
      " \n",
      "Column 1   Row 2\n",
      "{w: 0, M0: M, M1: M}\n",
      "{m1: 0}\n"
     ]
    },
    {
     "data": {
      "image/png": "[encoded data removed]",
      "text/latex": [
       "$$\\frac{L M m_{0}}{2}$$"
      ],
      "text/plain": [
       "L⋅M⋅m₀\n",
       "──────\n",
       "  2   "
      ]
     },
     "metadata": {},
     "output_type": "display_data"
    },
    {
     "name": "stdout",
     "output_type": "stream",
     "text": [
      " \n",
      "Column 1   Row 3\n",
      "{w: 0, M0: M, M1: M}\n",
      "{m0: 0}\n"
     ]
    },
    {
     "data": {
      "image/png": "[encoded data removed]",
      "text/latex": [
       "$$\\frac{L M m_{1}}{2}$$"
      ],
      "text/plain": [
       "L⋅M⋅m₁\n",
       "──────\n",
       "  2   "
      ]
     },
     "metadata": {},
     "output_type": "display_data"
    },
    {
     "name": "stdout",
     "output_type": "stream",
     "text": [
      " \n",
      "Column 1   Row 4\n",
      "{w: 0, M0: M, M1: M}\n",
      "{}\n"
     ]
    },
    {
     "data": {
      "image/png": "[encoded data removed]",
      "text/latex": [
       "$$\\frac{L M \\left(m_{0} + m_{1}\\right)}{2}$$"
      ],
      "text/plain": [
       "L⋅M⋅(m₀ + m₁)\n",
       "─────────────\n",
       "      2      "
      ]
     },
     "metadata": {},
     "output_type": "display_data"
    },
    {
     "name": "stdout",
     "output_type": "stream",
     "text": [
      " \n",
      "Column 2   Row 1\n",
      "{w: 0, M1: 0}\n",
      "{m0: m, m1: m}\n"
     ]
    },
    {
     "data": {
      "image/png": "[encoded data removed]",
      "text/latex": [
       "$$\\frac{L M_{0} m}{2}$$"
      ],
      "text/plain": [
       "L⋅M₀⋅m\n",
       "──────\n",
       "  2   "
      ]
     },
     "metadata": {},
     "output_type": "display_data"
    },
    {
     "name": "stdout",
     "output_type": "stream",
     "text": [
      " \n",
      "Column 2   Row 2\n",
      "{w: 0, M1: 0}\n",
      "{m1: 0}\n"
     ]
    },
    {
     "data": {
      "image/png": "[encoded data removed]",
      "text/latex": [
       "$$\\frac{L M_{0} m_{0}}{3}$$"
      ],
      "text/plain": [
       "L⋅M₀⋅m₀\n",
       "───────\n",
       "   3   "
      ]
     },
     "metadata": {},
     "output_type": "display_data"
    },
    {
     "name": "stdout",
     "output_type": "stream",
     "text": [
      " \n",
      "Column 2   Row 3\n",
      "{w: 0, M1: 0}\n",
      "{m0: 0}\n"
     ]
    },
    {
     "data": {
      "image/png": "[encoded data removed]",
      "text/latex": [
       "$$\\frac{L M_{0} m_{1}}{6}$$"
      ],
      "text/plain": [
       "L⋅M₀⋅m₁\n",
       "───────\n",
       "   6   "
      ]
     },
     "metadata": {},
     "output_type": "display_data"
    },
    {
     "name": "stdout",
     "output_type": "stream",
     "text": [
      " \n",
      "Column 2   Row 4\n",
      "{w: 0, M1: 0}\n",
      "{}\n"
     ]
    },
    {
     "data": {
      "image/png": "[encoded data removed]",
      "text/latex": [
       "$$\\frac{L M_{0} \\left(2 m_{0} + m_{1}\\right)}{6}$$"
      ],
      "text/plain": [
       "L⋅M₀⋅(2⋅m₀ + m₁)\n",
       "────────────────\n",
       "       6        "
      ]
     },
     "metadata": {},
     "output_type": "display_data"
    },
    {
     "name": "stdout",
     "output_type": "stream",
     "text": [
      " \n",
      "Column 3   Row 1\n",
      "{w: 0, M0: 0}\n",
      "{m0: m, m1: m}\n"
     ]
    },
    {
     "data": {
      "image/png": "[encoded data removed]",
      "text/latex": [
       "$$\\frac{L M_{1} m}{2}$$"
      ],
      "text/plain": [
       "L⋅M₁⋅m\n",
       "──────\n",
       "  2   "
      ]
     },
     "metadata": {},
     "output_type": "display_data"
    },
    {
     "name": "stdout",
     "output_type": "stream",
     "text": [
      " \n",
      "Column 3   Row 2\n",
      "{w: 0, M0: 0}\n",
      "{m1: 0}\n"
     ]
    },
    {
     "data": {
      "image/png": "[encoded data removed]",
      "text/latex": [
       "$$\\frac{L M_{1} m_{0}}{6}$$"
      ],
      "text/plain": [
       "L⋅M₁⋅m₀\n",
       "───────\n",
       "   6   "
      ]
     },
     "metadata": {},
     "output_type": "display_data"
    },
    {
     "name": "stdout",
     "output_type": "stream",
     "text": [
      " \n",
      "Column 3   Row 3\n",
      "{w: 0, M0: 0}\n",
      "{m0: 0}\n"
     ]
    },
    {
     "data": {
      "image/png": "[encoded data removed]",
      "text/latex": [
       "$$\\frac{L M_{1} m_{1}}{3}$$"
      ],
      "text/plain": [
       "L⋅M₁⋅m₁\n",
       "───────\n",
       "   3   "
      ]
     },
     "metadata": {},
     "output_type": "display_data"
    },
    {
     "name": "stdout",
     "output_type": "stream",
     "text": [
      " \n",
      "Column 3   Row 4\n",
      "{w: 0, M0: 0}\n",
      "{}\n"
     ]
    },
    {
     "data": {
      "image/png": "[encoded data removed]",
      "text/latex": [
       "$$\\frac{L M_{1} \\left(m_{0} + 2 m_{1}\\right)}{6}$$"
      ],
      "text/plain": [
       "L⋅M₁⋅(m₀ + 2⋅m₁)\n",
       "────────────────\n",
       "       6        "
      ]
     },
     "metadata": {},
     "output_type": "display_data"
    },
    {
     "name": "stdout",
     "output_type": "stream",
     "text": [
      " \n",
      "Column 4   Row 1\n",
      "{w: 0}\n",
      "{m0: m, m1: m}\n"
     ]
    },
    {
     "data": {
      "image/png": "[encoded data removed]",
      "text/latex": [
       "$$\\frac{L m \\left(M_{0} + M_{1}\\right)}{2}$$"
      ],
      "text/plain": [
       "L⋅m⋅(M₀ + M₁)\n",
       "─────────────\n",
       "      2      "
      ]
     },
     "metadata": {},
     "output_type": "display_data"
    },
    {
     "name": "stdout",
     "output_type": "stream",
     "text": [
      " \n",
      "Column 4   Row 2\n",
      "{w: 0}\n",
      "{m1: 0}\n"
     ]
    },
    {
     "data": {
      "image/png": "[encoded data removed]",
      "text/latex": [
       "$$\\frac{L m_{0} \\left(2 M_{0} + M_{1}\\right)}{6}$$"
      ],
      "text/plain": [
       "L⋅m₀⋅(2⋅M₀ + M₁)\n",
       "────────────────\n",
       "       6        "
      ]
     },
     "metadata": {},
     "output_type": "display_data"
    },
    {
     "name": "stdout",
     "output_type": "stream",
     "text": [
      " \n",
      "Column 4   Row 3\n",
      "{w: 0}\n",
      "{m0: 0}\n"
     ]
    },
    {
     "data": {
      "image/png": "[encoded data removed]",
      "text/latex": [
       "$$\\frac{L m_{1} \\left(M_{0} + 2 M_{1}\\right)}{6}$$"
      ],
      "text/plain": [
       "L⋅m₁⋅(M₀ + 2⋅M₁)\n",
       "────────────────\n",
       "       6        "
      ]
     },
     "metadata": {},
     "output_type": "display_data"
    },
    {
     "name": "stdout",
     "output_type": "stream",
     "text": [
      " \n",
      "Column 4   Row 4\n",
      "{w: 0}\n",
      "{}\n"
     ]
    },
    {
     "data": {
      "image/png": "[encoded data removed]",
      "text/latex": [
       "$$\\frac{L \\left(m_{0} \\left(2 M_{0} + M_{1}\\right) + m_{1} \\left(M_{0} + 2 M_{1}\\right)\\right)}{6}$$"
      ],
      "text/plain": [
       "L⋅(m₀⋅(2⋅M₀ + M₁) + m₁⋅(M₀ + 2⋅M₁))\n",
       "───────────────────────────────────\n",
       "                 6                 "
      ]
     },
     "metadata": {},
     "output_type": "display_data"
    },
    {
     "name": "stdout",
     "output_type": "stream",
     "text": [
      " \n",
      "Column 5   Row 1\n",
      "{M0: 0, M1: 0, w: 8*M/L**2}\n",
      "{m0: m, m1: m}\n"
     ]
    },
    {
     "data": {
      "image/png": "[encoded data removed]",
      "text/latex": [
       "$$\\frac{2 L M m}{3}$$"
      ],
      "text/plain": [
       "2⋅L⋅M⋅m\n",
       "───────\n",
       "   3   "
      ]
     },
     "metadata": {},
     "output_type": "display_data"
    },
    {
     "name": "stdout",
     "output_type": "stream",
     "text": [
      " \n",
      "Column 5   Row 2\n",
      "{M0: 0, M1: 0, w: 8*M/L**2}\n",
      "{m1: 0}\n"
     ]
    },
    {
     "data": {
      "image/png": "[encoded data removed]",
      "text/latex": [
       "$$\\frac{L M m_{0}}{3}$$"
      ],
      "text/plain": [
       "L⋅M⋅m₀\n",
       "──────\n",
       "  3   "
      ]
     },
     "metadata": {},
     "output_type": "display_data"
    },
    {
     "name": "stdout",
     "output_type": "stream",
     "text": [
      " \n",
      "Column 5   Row 3\n",
      "{M0: 0, M1: 0, w: 8*M/L**2}\n",
      "{m0: 0}\n"
     ]
    },
    {
     "data": {
      "image/png": "[encoded data removed]",
      "text/latex": [
       "$$\\frac{L M m_{1}}{3}$$"
      ],
      "text/plain": [
       "L⋅M⋅m₁\n",
       "──────\n",
       "  3   "
      ]
     },
     "metadata": {},
     "output_type": "display_data"
    },
    {
     "name": "stdout",
     "output_type": "stream",
     "text": [
      " \n",
      "Column 5   Row 4\n",
      "{M0: 0, M1: 0, w: 8*M/L**2}\n",
      "{}\n"
     ]
    },
    {
     "data": {
      "image/png": "[encoded data removed]",
      "text/latex": [
       "$$\\frac{L M \\left(m_{0} + m_{1}\\right)}{3}$$"
      ],
      "text/plain": [
       "L⋅M⋅(m₀ + m₁)\n",
       "─────────────\n",
       "      3      "
      ]
     },
     "metadata": {},
     "output_type": "display_data"
    },
    {
     "name": "stdout",
     "output_type": "stream",
     "text": [
      " \n",
      "Column 6   Row 1\n",
      "{w: -2*M1/L**2, M0: 0}\n",
      "{m0: m, m1: m}\n"
     ]
    },
    {
     "data": {
      "image/png": "[encoded data removed]",
      "text/latex": [
       "$$\\frac{L M_{1} m}{3}$$"
      ],
      "text/plain": [
       "L⋅M₁⋅m\n",
       "──────\n",
       "  3   "
      ]
     },
     "metadata": {},
     "output_type": "display_data"
    },
    {
     "name": "stdout",
     "output_type": "stream",
     "text": [
      " \n",
      "Column 6   Row 2\n",
      "{w: -2*M1/L**2, M0: 0}\n",
      "{m1: 0}\n"
     ]
    },
    {
     "data": {
      "image/png": "[encoded data removed]",
      "text/latex": [
       "$$\\frac{L M_{1} m_{0}}{12}$$"
      ],
      "text/plain": [
       "L⋅M₁⋅m₀\n",
       "───────\n",
       "   12  "
      ]
     },
     "metadata": {},
     "output_type": "display_data"
    },
    {
     "name": "stdout",
     "output_type": "stream",
     "text": [
      " \n",
      "Column 6   Row 3\n",
      "{w: -2*M1/L**2, M0: 0}\n",
      "{m0: 0}\n"
     ]
    },
    {
     "data": {
      "image/png": "[encoded data removed]",
      "text/latex": [
       "$$\\frac{L M_{1} m_{1}}{4}$$"
      ],
      "text/plain": [
       "L⋅M₁⋅m₁\n",
       "───────\n",
       "   4   "
      ]
     },
     "metadata": {},
     "output_type": "display_data"
    },
    {
     "name": "stdout",
     "output_type": "stream",
     "text": [
      " \n",
      "Column 6   Row 4\n",
      "{w: -2*M1/L**2, M0: 0}\n",
      "{}\n"
     ]
    },
    {
     "data": {
      "image/png": "[encoded data removed]",
      "text/latex": [
       "$$\\frac{L M_{1} \\left(m_{0} + 3 m_{1}\\right)}{12}$$"
      ],
      "text/plain": [
       "L⋅M₁⋅(m₀ + 3⋅m₁)\n",
       "────────────────\n",
       "       12       "
      ]
     },
     "metadata": {},
     "output_type": "display_data"
    },
    {
     "name": "stdout",
     "output_type": "stream",
     "text": [
      " \n",
      "Column 7   Row 1\n",
      "{w: (2*M0 - 2*M1)/L**2}\n",
      "{m0: m, m1: m}\n"
     ]
    },
    {
     "data": {
      "image/png": "[encoded data removed]",
      "text/latex": [
       "$$\\frac{L m \\left(2 M_{0} + M_{1}\\right)}{3}$$"
      ],
      "text/plain": [
       "L⋅m⋅(2⋅M₀ + M₁)\n",
       "───────────────\n",
       "       3       "
      ]
     },
     "metadata": {},
     "output_type": "display_data"
    },
    {
     "name": "stdout",
     "output_type": "stream",
     "text": [
      " \n",
      "Column 7   Row 2\n",
      "{w: (2*M0 - 2*M1)/L**2}\n",
      "{m1: 0}\n"
     ]
    },
    {
     "data": {
      "image/png": "[encoded data removed]",
      "text/latex": [
       "$$\\frac{L m_{0} \\left(5 M_{0} + M_{1}\\right)}{12}$$"
      ],
      "text/plain": [
       "L⋅m₀⋅(5⋅M₀ + M₁)\n",
       "────────────────\n",
       "       12       "
      ]
     },
     "metadata": {},
     "output_type": "display_data"
    },
    {
     "name": "stdout",
     "output_type": "stream",
     "text": [
      " \n",
      "Column 7   Row 3\n",
      "{w: (2*M0 - 2*M1)/L**2}\n",
      "{m0: 0}\n"
     ]
    },
    {
     "data": {
      "image/png": "[encoded data removed]",
      "text/latex": [
       "$$\\frac{L m_{1} \\left(M_{0} + M_{1}\\right)}{4}$$"
      ],
      "text/plain": [
       "L⋅m₁⋅(M₀ + M₁)\n",
       "──────────────\n",
       "      4       "
      ]
     },
     "metadata": {},
     "output_type": "display_data"
    },
    {
     "name": "stdout",
     "output_type": "stream",
     "text": [
      " \n",
      "Column 7   Row 4\n",
      "{w: (2*M0 - 2*M1)/L**2}\n",
      "{}\n"
     ]
    },
    {
     "data": {
      "image/png": "[encoded data removed]",
      "text/latex": [
       "$$\\frac{L \\left(m_{0} \\left(5 M_{0} + M_{1}\\right) + 3 m_{1} \\left(M_{0} + M_{1}\\right)\\right)}{12}$$"
      ],
      "text/plain": [
       "L⋅(m₀⋅(5⋅M₀ + M₁) + 3⋅m₁⋅(M₀ + M₁))\n",
       "───────────────────────────────────\n",
       "                 12                "
      ]
     },
     "metadata": {},
     "output_type": "display_data"
    }
   ],
   "source": [
    "for col,rs in enumerate(real_specials):\n",
    "    for row,vs in enumerate(virtual_specials):\n",
    "        s = I3.subs(rs).subs(vs).simplify()\n",
    "        print(' ')\n",
    "        print(\"Column\",col+1,\"  Row\",row+1)\n",
    "        print(rs)\n",
    "        print(vs)\n",
    "        display(s)"
   ]
  },
  {
   "cell_type": "code",
   "execution_count": null,
   "metadata": {},
   "outputs": [],
   "source": []
  },
  {
   "cell_type": "code",
   "execution_count": null,
   "metadata": {},
   "outputs": [],
   "source": []
  }
 ],
 "metadata": {
  "kernelspec": {
   "display_name": "Python 3",
   "language": "python",
   "name": "python3"
  },
  "language_info": {
   "codemirror_mode": {
    "name": "ipython",
    "version": 3
   },
   "file_extension": ".py",
   "mimetype": "text/x-python",
   "name": "python",
   "nbconvert_exporter": "python",
   "pygments_lexer": "ipython3",
   "version": "3.6.8"
  }
 },
 "nbformat": 4,
 "nbformat_minor": 2
}
