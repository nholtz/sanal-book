{
 "cells": [
  {
   "cell_type": "markdown",
   "metadata": {},
   "source": [
    "## Integrate Products of Bending Moment Diagrams\n",
    "\n",
    "![Figure](../../../images/virtualwork/virtualforce/introduction/int-mM-general.svg)\n",
    "\n",
    "This snippet integrates the product of two moment diagrams, as might be used to\n",
    "integrate the product of virtual and real moments when finding deflections in beam and\n",
    "frame structures using the method of virtual work.\n",
    "\n",
    "It simply uses the solution for the most general case of a linear virtual moment\n",
    "diagram and a real moment diagram resulting from a UDL of magnitude $w$ and constant $EI$.\n",
    "\n",
    "*Note:* signs for moments and loads are positive in the directions shown in the figure."
   ]
  },
  {
   "cell_type": "code",
   "execution_count": 1,
   "metadata": {},
   "outputs": [],
   "source": [
    "def intmM(L,m0,m1,M0,M1,w=0,EI=1.):\n",
    "    return (L/24.)*(m0*(w*L*L + 8.*M0 + 4.*M1) + m1*(w*L*L + 4.*M0 + 8.*M1))/EI"
   ]
  },
  {
   "cell_type": "markdown",
   "metadata": {},
   "source": [
    "## Example Usage\n",
    "\n",
    "Consider the example of Figure 5.24 from [Erochko](http://www.learnaboutstructures.com/Virtual-Work-Method), repeated\n",
    "here with some minor changes:"
   ]
  },
  {
   "cell_type": "markdown",
   "metadata": {},
   "source": [
    "![Figure](../../../images/virtualwork/virtualforce/introduction/erochko-fig-5-24.svg)"
   ]
  },
  {
   "cell_type": "markdown",
   "metadata": {},
   "source": [
    "First, integrate the four separate parts:"
   ]
  },
  {
   "cell_type": "code",
   "execution_count": 2,
   "metadata": {},
   "outputs": [
    {
     "data": {
      "text/plain": [
       "52.5"
      ]
     },
     "execution_count": 2,
     "metadata": {},
     "output_type": "execute_result"
    }
   ],
   "source": [
    "part1 = intmM(L=3,m0=0,m1=1.5,M0=0,M1=105,EI=3)\n",
    "part1"
   ]
  },
  {
   "cell_type": "code",
   "execution_count": 3,
   "metadata": {},
   "outputs": [
    {
     "data": {
      "text/plain": [
       "215.83333333333331"
      ]
     },
     "execution_count": 3,
     "metadata": {},
     "output_type": "execute_result"
    }
   ],
   "source": [
    "part2 = intmM(L=1,m0=1.5,m1=2.0,M0=105,M1=140,EI=1)\n",
    "part2"
   ]
  },
  {
   "cell_type": "code",
   "execution_count": 4,
   "metadata": {},
   "outputs": [
    {
     "data": {
      "text/plain": [
       "513.3333333333333"
      ]
     },
     "execution_count": 4,
     "metadata": {},
     "output_type": "execute_result"
    }
   ],
   "source": [
    "part3 = intmM(L=2,m0=2,m1=1,M0=140,M1=210,EI=1)\n",
    "part3"
   ]
  },
  {
   "cell_type": "code",
   "execution_count": 8,
   "metadata": {},
   "outputs": [
    {
     "data": {
      "text/plain": [
       "140.0"
      ]
     },
     "execution_count": 8,
     "metadata": {},
     "output_type": "execute_result"
    }
   ],
   "source": [
    "part4 = intmM(L=2,m0=1,m1=0,M0=210,M1=0,EI=1)\n",
    "part4"
   ]
  },
  {
   "cell_type": "code",
   "execution_count": 9,
   "metadata": {},
   "outputs": [
    {
     "data": {
      "text/plain": [
       "921.6666666666665"
      ]
     },
     "execution_count": 9,
     "metadata": {},
     "output_type": "execute_result"
    }
   ],
   "source": [
    "T = part1 + part2 + part3 + part4\n",
    "T"
   ]
  },
  {
   "cell_type": "markdown",
   "metadata": {},
   "source": [
    "Then form the total internal virtual work, $U_i$:"
   ]
  },
  {
   "cell_type": "markdown",
   "metadata": {},
   "source": [
    "The units of the above are $\\text{kN}\\text{m}^3$ (remember, the virtual unit load has no units).  If $E$ and $I$\n",
    "have units of _N_ and _mm_ then we can convert the above to the same units by multiplying ${}\\times 10^3 \\times 10^3 \\times 10^3 \\times 10^3$.\n",
    "\n",
    "Our virtual work equation is:\n",
    "\n",
    "$$\n",
    "U_i = \\frac{T}{EI}\n",
    "$$\n",
    "\n",
    "$$\n",
    "1 \\times \\Delta = U_i\n",
    "$$\n",
    "\n",
    "solving for $\\Delta$ gives:"
   ]
  },
  {
   "cell_type": "code",
   "execution_count": 7,
   "metadata": {},
   "outputs": [
    {
     "data": {
      "text/plain": [
       "15.361111111111109"
      ]
     },
     "execution_count": 7,
     "metadata": {},
     "output_type": "execute_result"
    }
   ],
   "source": [
    "E = 200000.\n",
    "I = 300E6\n",
    "delta = T * 1E3 * 1e3**3 / (E*I)\n",
    "delta"
   ]
  },
  {
   "cell_type": "markdown",
   "metadata": {},
   "source": [
    "And this is in _mm_."
   ]
  }
 ],
 "metadata": {
  "kernelspec": {
   "display_name": "Python 3",
   "language": "python",
   "name": "python3"
  },
  "language_info": {
   "codemirror_mode": {
    "name": "ipython",
    "version": 3
   },
   "file_extension": ".py",
   "mimetype": "text/x-python",
   "name": "python",
   "nbconvert_exporter": "python",
   "pygments_lexer": "ipython3",
   "version": "3.6.8"
  }
 },
 "nbformat": 4,
 "nbformat_minor": 2
}
