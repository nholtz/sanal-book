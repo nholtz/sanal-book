{
 "cells": [
  {
   "cell_type": "code",
   "execution_count": 1,
   "metadata": {},
   "outputs": [],
   "source": [
    "from sympy import symbols, solve, init_printing\n",
    "init_printing()"
   ]
  },
  {
   "cell_type": "code",
   "execution_count": 2,
   "metadata": {},
   "outputs": [],
   "source": [
    "x = symbols('x')"
   ]
  },
  {
   "cell_type": "code",
   "execution_count": 3,
   "metadata": {},
   "outputs": [
    {
     "data": {
      "image/png": "[encoded data removed]",
      "text/latex": [
       "$$\\frac{3 x}{4}$$"
      ],
      "text/plain": [
       "3⋅x\n",
       "───\n",
       " 4 "
      ]
     },
     "execution_count": 3,
     "metadata": {},
     "output_type": "execute_result"
    }
   ],
   "source": [
    "x*3/4"
   ]
  },
  {
   "cell_type": "code",
   "execution_count": 4,
   "metadata": {},
   "outputs": [
    {
     "data": {
      "image/png": "[encoded data removed]",
      "text/latex": [
       "$$0.75 x$$"
      ],
      "text/plain": [
       "0.75⋅x"
      ]
     },
     "execution_count": 4,
     "metadata": {},
     "output_type": "execute_result"
    }
   ],
   "source": [
    "(x/4*3).n()"
   ]
  },
  {
   "cell_type": "code",
   "execution_count": 5,
   "metadata": {},
   "outputs": [
    {
     "data": {
      "image/png": "[encoded data removed]",
      "text/latex": [
       "$$2 x^{2} + 5 x - 4$$"
      ],
      "text/plain": [
       "   2          \n",
       "2⋅x  + 5⋅x - 4"
      ]
     },
     "execution_count": 5,
     "metadata": {},
     "output_type": "execute_result"
    }
   ],
   "source": [
    "eqn = 2*x**2 + 5*x - 4\n",
    "eqn"
   ]
  },
  {
   "cell_type": "code",
   "execution_count": 6,
   "metadata": {},
   "outputs": [
    {
     "data": {
      "image/png": "[encoded data removed]",
      "text/latex": [
       "$$\\left [ - \\frac{5}{4} + \\frac{\\sqrt{57}}{4}, \\quad - \\frac{\\sqrt{57}}{4} - \\frac{5}{4}\\right ]$$"
      ],
      "text/plain": [
       "⎡  5   √57    √57   5⎤\n",
       "⎢- ─ + ───, - ─── - ─⎥\n",
       "⎣  4    4      4    4⎦"
      ]
     },
     "execution_count": 6,
     "metadata": {},
     "output_type": "execute_result"
    }
   ],
   "source": [
    "s = solve(eqn)\n",
    "s"
   ]
  },
  {
   "cell_type": "code",
   "execution_count": 7,
   "metadata": {},
   "outputs": [
    {
     "data": {
      "image/png": "[encoded data removed]",
      "text/latex": [
       "$$0.637458608817687$$"
      ],
      "text/plain": [
       "0.637458608817687"
      ]
     },
     "execution_count": 7,
     "metadata": {},
     "output_type": "execute_result"
    }
   ],
   "source": [
    "s[0].n()"
   ]
  },
  {
   "cell_type": "code",
   "execution_count": 8,
   "metadata": {},
   "outputs": [
    {
     "data": {
      "image/png": "[encoded data removed]",
      "text/latex": [
       "$$-3.13745860881769$$"
      ],
      "text/plain": [
       "-3.13745860881769"
      ]
     },
     "execution_count": 8,
     "metadata": {},
     "output_type": "execute_result"
    }
   ],
   "source": [
    "s[1].n()"
   ]
  },
  {
   "cell_type": "code",
   "execution_count": 9,
   "metadata": {},
   "outputs": [
    {
     "data": {
      "image/png": "[encoded data removed]",
      "text/latex": [
       "$$\\left [ 0.637458608817687, \\quad -3.13745860881769\\right ]$$"
      ],
      "text/plain": [
       "[0.637458608817687, -3.13745860881769]"
      ]
     },
     "execution_count": 9,
     "metadata": {},
     "output_type": "execute_result"
    }
   ],
   "source": [
    "[p.n() for p in s]"
   ]
  },
  {
   "cell_type": "code",
   "execution_count": 10,
   "metadata": {},
   "outputs": [],
   "source": [
    "a,b = symbols('a b')"
   ]
  },
  {
   "cell_type": "code",
   "execution_count": 11,
   "metadata": {},
   "outputs": [],
   "source": [
    "eqn1 = 10*a - 20*b - 100\n",
    "eqn2 = 30*b + 4*a + 60"
   ]
  },
  {
   "cell_type": "code",
   "execution_count": 12,
   "metadata": {},
   "outputs": [
    {
     "data": {
      "image/png": "[encoded data removed]",
      "text/latex": [
       "$$10 a - 20 b - 100$$"
      ],
      "text/plain": [
       "10⋅a - 20⋅b - 100"
      ]
     },
     "execution_count": 12,
     "metadata": {},
     "output_type": "execute_result"
    }
   ],
   "source": [
    "eqn1"
   ]
  },
  {
   "cell_type": "code",
   "execution_count": 13,
   "metadata": {},
   "outputs": [
    {
     "data": {
      "image/png": "[encoded data removed]",
      "text/latex": [
       "$$4 a + 30 b + 60$$"
      ],
      "text/plain": [
       "4⋅a + 30⋅b + 60"
      ]
     },
     "execution_count": 13,
     "metadata": {},
     "output_type": "execute_result"
    }
   ],
   "source": [
    "eqn2"
   ]
  },
  {
   "cell_type": "code",
   "execution_count": 14,
   "metadata": {},
   "outputs": [
    {
     "data": {
      "image/png": "[encoded data removed]",
      "text/latex": [
       "$$\\left \\{ a : \\frac{90}{19}, \\quad b : - \\frac{50}{19}\\right \\}$$"
      ],
      "text/plain": [
       "⎧   90     -50 ⎫\n",
       "⎨a: ──, b: ────⎬\n",
       "⎩   19      19 ⎭"
      ]
     },
     "execution_count": 14,
     "metadata": {},
     "output_type": "execute_result"
    }
   ],
   "source": [
    "s2 = solve([eqn1,eqn2])\n",
    "s2"
   ]
  },
  {
   "cell_type": "code",
   "execution_count": 15,
   "metadata": {},
   "outputs": [
    {
     "data": {
      "image/png": "[encoded data removed]",
      "text/latex": [
       "$$\\left ( 4.73684210526316, \\quad -2.63157894736842\\right )$$"
      ],
      "text/plain": [
       "(4.73684210526316, -2.63157894736842)"
      ]
     },
     "execution_count": 15,
     "metadata": {},
     "output_type": "execute_result"
    }
   ],
   "source": [
    "s2[a].n(),  s2[b].n()"
   ]
  },
  {
   "cell_type": "code",
   "execution_count": 16,
   "metadata": {},
   "outputs": [
    {
     "data": {
      "image/png": "[encoded data removed]",
      "text/latex": [
       "$$\\left [ \\left \\{ a : - \\frac{2}{15} + \\frac{\\sqrt{1354}}{15}, \\quad b : - \\frac{446}{225} - \\frac{2 \\sqrt{1354}}{225}\\right \\}, \\quad \\left \\{ a : - \\frac{\\sqrt{1354}}{15} - \\frac{2}{15}, \\quad b : - \\frac{446}{225} + \\frac{2 \\sqrt{1354}}{225}\\right \\}\\right ]$$"
      ],
      "text/plain": [
       "⎡⎧     2    √1354       446   2⋅√1354⎫  ⎧     √1354   2        446   2⋅√1354⎫⎤\n",
       "⎢⎨a: - ── + ─────, b: - ─── - ───────⎬, ⎨a: - ───── - ──, b: - ─── + ───────⎬⎥\n",
       "⎣⎩     15     15        225     225  ⎭  ⎩       15    15       225     225  ⎭⎦"
      ]
     },
     "execution_count": 16,
     "metadata": {},
     "output_type": "execute_result"
    }
   ],
   "source": [
    "eqn3 = 10*a**2 - 20*b - 100\n",
    "eqn4 = 30*b + 4*a + 60\n",
    "s3 = solve([eqn3,eqn4])\n",
    "s3"
   ]
  },
  {
   "cell_type": "code",
   "execution_count": 17,
   "metadata": {},
   "outputs": [
    {
     "data": {
      "image/png": "[encoded data removed]",
      "text/latex": [
       "$$\\left ( 2.31978259906321, \\quad -2.30930434654176\\right )$$"
      ],
      "text/plain": [
       "(2.31978259906321, -2.30930434654176)"
      ]
     },
     "execution_count": 17,
     "metadata": {},
     "output_type": "execute_result"
    }
   ],
   "source": [
    "s3[0][a].n(),  s3[0][b].n()"
   ]
  },
  {
   "cell_type": "code",
   "execution_count": 18,
   "metadata": {},
   "outputs": [
    {
     "data": {
      "image/png": "[encoded data removed]",
      "text/latex": [
       "$$\\left ( -2.58644926572988, \\quad -1.65514009790268\\right )$$"
      ],
      "text/plain": [
       "(-2.58644926572988, -1.65514009790268)"
      ]
     },
     "execution_count": 18,
     "metadata": {},
     "output_type": "execute_result"
    }
   ],
   "source": [
    "s3[1][a].n(),  s3[1][b].n()"
   ]
  },
  {
   "cell_type": "code",
   "execution_count": 19,
   "metadata": {},
   "outputs": [
    {
     "data": {
      "image/png": "[encoded data removed]",
      "text/latex": [
       "$$\\left ( -2.59, \\quad -1.6551\\right )$$"
      ],
      "text/plain": [
       "(-2.59, -1.6551)"
      ]
     },
     "execution_count": 19,
     "metadata": {},
     "output_type": "execute_result"
    }
   ],
   "source": [
    "s3[1][a].n(3),  s3[1][b].n(5)"
   ]
  },
  {
   "cell_type": "code",
   "execution_count": null,
   "metadata": {},
   "outputs": [],
   "source": []
  }
 ],
 "metadata": {
  "kernelspec": {
   "display_name": "Python 3",
   "language": "python",
   "name": "python3"
  },
  "language_info": {
   "codemirror_mode": {
    "name": "ipython",
    "version": 3
   },
   "file_extension": ".py",
   "mimetype": "text/x-python",
   "name": "python",
   "nbconvert_exporter": "python",
   "pygments_lexer": "ipython3",
   "version": "3.6.8"
  }
 },
 "nbformat": 4,
 "nbformat_minor": 2
}
