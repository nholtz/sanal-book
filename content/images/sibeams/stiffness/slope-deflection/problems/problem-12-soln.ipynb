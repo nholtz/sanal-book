{
 "cells": [
  {
   "cell_type": "markdown",
   "metadata": {},
   "source": [
    "# Problem 12 - Solution"
   ]
  },
  {
   "cell_type": "markdown",
   "metadata": {},
   "source": [
    "![Figure](problem-12.svg)"
   ]
  },
  {
   "cell_type": "markdown",
   "metadata": {},
   "source": [
    "## 1. Identify DOFs\n",
    "\n",
    "There is one DOF - the rotation of joint $b$,  $\\theta_b$.\n",
    "\n",
    "![Figure](problem-12-dof.svg)"
   ]
  },
  {
   "cell_type": "markdown",
   "metadata": {},
   "source": [
    "## 2. Fixed-end moments\n",
    "Each span, $ab$ and $bc$, has multiple loads on it.  We use the principle of superposition\n",
    "and sum the contributions of each load.\n",
    "\n",
    "Member $ab$:"
   ]
  },
  {
   "cell_type": "code",
   "execution_count": 1,
   "metadata": {},
   "outputs": [
    {
     "data": {
      "text/plain": [
       "(-205.33333333333331, 205.33333333333331)"
      ]
     },
     "execution_count": 1,
     "metadata": {},
     "output_type": "execute_result"
    }
   ],
   "source": [
    "Mfab = -16*8**2/12 + (-120*8/8)\n",
    "Mfba = 16*8**2/12 + 120*8/8\n",
    "Mfab, Mfba"
   ]
  },
  {
   "cell_type": "markdown",
   "metadata": {},
   "source": [
    "Member $ba$:"
   ]
  },
  {
   "cell_type": "code",
   "execution_count": 2,
   "metadata": {},
   "outputs": [
    {
     "data": {
      "text/plain": [
       "(-88.88888888888889, 71.11111111111111)"
      ]
     },
     "execution_count": 2,
     "metadata": {},
     "output_type": "execute_result"
    }
   ],
   "source": [
    "Mfbc = -80*2*4**2/6**2 + -40*4*2**2/6**2\n",
    "Mfcb = 80*2**2*4/6**2 + 40*4**2*2/6**2\n",
    "Mfbc, Mfcb"
   ]
  },
  {
   "cell_type": "markdown",
   "metadata": {},
   "source": [
    "## 3. Slope deflection equations\n",
    "Express member end moments as a function of the unknown joint rotation, $\\theta_b$."
   ]
  },
  {
   "cell_type": "code",
   "execution_count": 3,
   "metadata": {},
   "outputs": [],
   "source": [
    "from sympy import symbols, solve, init_printing\n",
    "init_printing()"
   ]
  },
  {
   "cell_type": "code",
   "execution_count": 4,
   "metadata": {},
   "outputs": [],
   "source": [
    "theta_b, EI = symbols('theta_b EI')\n",
    "theta_a = theta_c = 0      # rotations at the outside ends are zero (fixed support)"
   ]
  },
  {
   "cell_type": "code",
   "execution_count": 5,
   "metadata": {},
   "outputs": [
    {
     "data": {
      "image/png": "[encoded data removed]",
      "text/latex": [
       "$$\\frac{EI \\theta_{b}}{2} - 205.333333333333$$"
      ],
      "text/plain": [
       "EI⋅θ_b                   \n",
       "────── - 205.333333333333\n",
       "  2                      "
      ]
     },
     "metadata": {},
     "output_type": "display_data"
    },
    {
     "data": {
      "image/png": "[encoded data removed]",
      "text/latex": [
       "$$EI \\theta_{b} + 205.333333333333$$"
      ],
      "text/plain": [
       "EI⋅θ_b + 205.333333333333"
      ]
     },
     "metadata": {},
     "output_type": "display_data"
    }
   ],
   "source": [
    "Mab = (2*EI/8)*(4*theta_a + 2*theta_b) + Mfab\n",
    "Mba = (2*EI/8)*(2*theta_a + 4*theta_b) + Mfba\n",
    "display(Mab,Mba)"
   ]
  },
  {
   "cell_type": "code",
   "execution_count": 6,
   "metadata": {},
   "outputs": [
    {
     "data": {
      "image/png": "[encoded data removed]",
      "text/latex": [
       "$$\\frac{2 EI \\theta_{b}}{3} - 88.8888888888889$$"
      ],
      "text/plain": [
       "2⋅EI⋅θ_b                   \n",
       "──────── - 88.8888888888889\n",
       "   3                       "
      ]
     },
     "metadata": {},
     "output_type": "display_data"
    },
    {
     "data": {
      "image/png": "[encoded data removed]",
      "text/latex": [
       "$$\\frac{EI \\theta_{b}}{3} + 71.1111111111111$$"
      ],
      "text/plain": [
       "EI⋅θ_b                   \n",
       "────── + 71.1111111111111\n",
       "  3                      "
      ]
     },
     "metadata": {},
     "output_type": "display_data"
    }
   ],
   "source": [
    "Mbc = (EI/6)*(4*theta_b + 2*theta_c) + Mfbc\n",
    "Mcb = (EI/6)*(2*theta_b + 4*theta_c) + Mfcb\n",
    "display(Mbc,Mcb)"
   ]
  },
  {
   "cell_type": "markdown",
   "metadata": {},
   "source": [
    "## 4. Equilibrium Equation\n",
    "The sum of the moments acting on joint $b$ must be zero.\n",
    "\n",
    "Note that the negatives of the member end forces act on the joint."
   ]
  },
  {
   "cell_type": "code",
   "execution_count": 7,
   "metadata": {},
   "outputs": [
    {
     "data": {
      "image/png": "[encoded data removed]",
      "text/latex": [
       "$$\\frac{5 EI \\theta_{b}}{3} + 116.444444444444$$"
      ],
      "text/plain": [
       "5⋅EI⋅θ_b                   \n",
       "──────── + 116.444444444444\n",
       "   3                       "
      ]
     },
     "execution_count": 7,
     "metadata": {},
     "output_type": "execute_result"
    }
   ],
   "source": [
    "ee = (Mba + Mbc)  # = 0, +ive ccw on joint\n",
    "ee"
   ]
  },
  {
   "cell_type": "markdown",
   "metadata": {},
   "source": [
    "## 5. Solve for displacement"
   ]
  },
  {
   "cell_type": "code",
   "execution_count": 8,
   "metadata": {},
   "outputs": [
    {
     "data": {
      "image/png": "[encoded data removed]",
      "text/latex": [
       "$$\\left \\{ \\theta_{b} : - \\frac{69.8666666666664}{EI}\\right \\}$$"
      ],
      "text/plain": [
       "⎧     -69.8666666666664 ⎫\n",
       "⎨θ_b: ──────────────────⎬\n",
       "⎩             EI        ⎭"
      ]
     },
     "execution_count": 8,
     "metadata": {},
     "output_type": "execute_result"
    }
   ],
   "source": [
    "ans = solve([ee],theta_b)\n",
    "ans"
   ]
  },
  {
   "cell_type": "markdown",
   "metadata": {},
   "source": [
    "Therefore, the joint rotates counter-clockwise.  This makes sense as the loads are greater on the left span, and that span is longer, with considerabley larger fixed end moments.  So a counter clockwise rotation will serve to reduce the left hand side moments and increase the right hand side moments until they are balanced."
   ]
  },
  {
   "cell_type": "markdown",
   "metadata": {},
   "source": [
    "## 6. Back-substitute to get member end moments"
   ]
  },
  {
   "cell_type": "code",
   "execution_count": 9,
   "metadata": {},
   "outputs": [
    {
     "data": {
      "image/png": "[encoded data removed]",
      "text/latex": [
       "$$-240.266666666667$$"
      ],
      "text/plain": [
       "-240.266666666667"
      ]
     },
     "metadata": {},
     "output_type": "display_data"
    },
    {
     "data": {
      "image/png": "[encoded data removed]",
      "text/latex": [
       "$$135.466666666667$$"
      ],
      "text/plain": [
       "135.466666666667"
      ]
     },
     "metadata": {},
     "output_type": "display_data"
    }
   ],
   "source": [
    "mab = Mab.subs(ans)\n",
    "mba = Mba.subs(ans)\n",
    "display(mab, mba)"
   ]
  },
  {
   "cell_type": "code",
   "execution_count": 10,
   "metadata": {},
   "outputs": [
    {
     "data": {
      "image/png": "[encoded data removed]",
      "text/latex": [
       "$$-135.466666666666$$"
      ],
      "text/plain": [
       "-135.466666666666"
      ]
     },
     "metadata": {},
     "output_type": "display_data"
    },
    {
     "data": {
      "image/png": "[encoded data removed]",
      "text/latex": [
       "$$47.8222222222223$$"
      ],
      "text/plain": [
       "47.8222222222223"
      ]
     },
     "metadata": {},
     "output_type": "display_data"
    }
   ],
   "source": [
    "mbc = Mbc.subs(ans)\n",
    "mcb = Mcb.subs(ans)\n",
    "display(mbc,mcb)"
   ]
  },
  {
   "cell_type": "markdown",
   "metadata": {},
   "source": [
    "## 7. Check joint equilibrium\n",
    "The sum should be zero or very close to it."
   ]
  },
  {
   "cell_type": "code",
   "execution_count": 11,
   "metadata": {},
   "outputs": [
    {
     "data": {
      "image/png": "[encoded data removed]",
      "text/latex": [
       "$$4.54747350886464 \\cdot 10^{-13}$$"
      ],
      "text/plain": [
       "4.54747350886464e-13"
      ]
     },
     "execution_count": 11,
     "metadata": {},
     "output_type": "execute_result"
    }
   ],
   "source": [
    "# sum of moments acting on joint, +ive ccw\n",
    "mba+mbc"
   ]
  },
  {
   "cell_type": "markdown",
   "metadata": {},
   "source": [
    "It is, so OK."
   ]
  },
  {
   "cell_type": "markdown",
   "metadata": {},
   "source": [
    "## 8. Member end shears\n",
    "\n",
    "Member $ab$:"
   ]
  },
  {
   "cell_type": "code",
   "execution_count": 12,
   "metadata": {},
   "outputs": [
    {
     "data": {
      "image/png": "[encoded data removed]",
      "text/latex": [
       "$$137.1$$"
      ],
      "text/plain": [
       "137.100000000000"
      ]
     },
     "metadata": {},
     "output_type": "display_data"
    },
    {
     "data": {
      "image/png": "[encoded data removed]",
      "text/latex": [
       "$$110.9$$"
      ],
      "text/plain": [
       "110.900000000000"
      ]
     },
     "metadata": {},
     "output_type": "display_data"
    }
   ],
   "source": [
    "vab = -(mab + mba - 16*8*8/2 - 120*4)/8     # from sum M about b for member ab +ive CW\n",
    "vba = 16*8 + 120 - vab                      # from sum Fy\n",
    "display(vab,vba)"
   ]
  },
  {
   "cell_type": "markdown",
   "metadata": {},
   "source": [
    "Member $bc$:"
   ]
  },
  {
   "cell_type": "code",
   "execution_count": 13,
   "metadata": {},
   "outputs": [
    {
     "data": {
      "image/png": "[encoded data removed]",
      "text/latex": [
       "$$81.274074074074$$"
      ],
      "text/plain": [
       "81.2740740740740"
      ]
     },
     "metadata": {},
     "output_type": "display_data"
    },
    {
     "data": {
      "image/png": "[encoded data removed]",
      "text/latex": [
       "$$38.725925925926$$"
      ],
      "text/plain": [
       "38.7259259259260"
      ]
     },
     "metadata": {},
     "output_type": "display_data"
    }
   ],
   "source": [
    "vbc = -(mbc + mcb - 80*4 - 40*2)/6          # from sum M about c for member bc, +ive CW\n",
    "vcb = 80 + 40 - vbc                         # from sum Fy\n",
    "display(vbc,vcb)"
   ]
  },
  {
   "cell_type": "markdown",
   "metadata": {},
   "source": [
    "and the reaction at b:"
   ]
  },
  {
   "cell_type": "code",
   "execution_count": 14,
   "metadata": {},
   "outputs": [
    {
     "data": {
      "image/png": "[encoded data removed]",
      "text/latex": [
       "$$192.174074074074$$"
      ],
      "text/plain": [
       "192.174074074074"
      ]
     },
     "execution_count": 14,
     "metadata": {},
     "output_type": "execute_result"
    }
   ],
   "source": [
    "Vb = vba + vbc\n",
    "Vb"
   ]
  },
  {
   "cell_type": "markdown",
   "metadata": {},
   "source": [
    "## 9. Summary\n",
    "\n",
    "![Figure](problem-12-vm.svg)"
   ]
  },
  {
   "cell_type": "code",
   "execution_count": null,
   "metadata": {},
   "outputs": [],
   "source": []
  }
 ],
 "metadata": {
  "kernelspec": {
   "display_name": "Python 3",
   "language": "python",
   "name": "python3"
  },
  "language_info": {
   "codemirror_mode": {
    "name": "ipython",
    "version": 3
   },
   "file_extension": ".py",
   "mimetype": "text/x-python",
   "name": "python",
   "nbconvert_exporter": "python",
   "pygments_lexer": "ipython3",
   "version": "3.6.8"
  }
 },
 "nbformat": 4,
 "nbformat_minor": 2
}
