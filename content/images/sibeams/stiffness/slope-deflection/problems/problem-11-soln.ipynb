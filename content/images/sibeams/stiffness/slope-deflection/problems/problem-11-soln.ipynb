{
 "cells": [
  {
   "cell_type": "markdown",
   "metadata": {},
   "source": [
    "# Problem 11 - Solution"
   ]
  },
  {
   "cell_type": "markdown",
   "metadata": {},
   "source": [
    "![Figure](problem-11.svg)"
   ]
  },
  {
   "cell_type": "markdown",
   "metadata": {},
   "source": [
    "## 1. Identify DOFs\n",
    "\n",
    "There is 1 - $\\theta_b$, the rotation of joint $b$.\n",
    "\n",
    "![Figure](problem-11-dof.svg)"
   ]
  },
  {
   "cell_type": "markdown",
   "metadata": {},
   "source": [
    "## 2. Fixed-end moments\n",
    "The distributed load on member $ab$ must be resolved into its perpendicular component on ab.  In this case, the perpendicular component is $0.8\\times 24 = 19.2$ kN/m.\n",
    "\n",
    "There are no transverse loads on the  two other members, so all 4 member fixed end moments for those are zero."
   ]
  },
  {
   "cell_type": "code",
   "execution_count": 1,
   "metadata": {},
   "outputs": [],
   "source": [
    "Mfab = -0.8*24*5*5/12\n",
    "Mfba = 0.8*24*5*5/12\n",
    "Mfbc = Mfcb = Mfbd = Mfdb = 0"
   ]
  },
  {
   "cell_type": "markdown",
   "metadata": {},
   "source": [
    "## 3. Slope deflection equations\n",
    "Express member end moments as a function of the unknown joint rotation, $\\theta_b$."
   ]
  },
  {
   "cell_type": "code",
   "execution_count": 2,
   "metadata": {},
   "outputs": [],
   "source": [
    "from sympy import symbols, solve, init_printing\n",
    "init_printing()"
   ]
  },
  {
   "cell_type": "code",
   "execution_count": 3,
   "metadata": {},
   "outputs": [],
   "source": [
    "theta_b, EI = symbols('theta_b EI')\n",
    "theta_a = theta_c = theta_d = 0      # rotations at the outsaide end of each member"
   ]
  },
  {
   "cell_type": "code",
   "execution_count": 4,
   "metadata": {},
   "outputs": [
    {
     "data": {
      "image/png": "[encoded data removed]",
      "text/latex": [
       "$$\\frac{4 EI \\theta_{b}}{5} - 40.0$$"
      ],
      "text/plain": [
       "4⋅EI⋅θ_b       \n",
       "──────── - 40.0\n",
       "   5           "
      ]
     },
     "metadata": {},
     "output_type": "display_data"
    },
    {
     "data": {
      "image/png": "[encoded data removed]",
      "text/latex": [
       "$$\\frac{8 EI \\theta_{b}}{5} + 40.0$$"
      ],
      "text/plain": [
       "8⋅EI⋅θ_b       \n",
       "──────── + 40.0\n",
       "   5           "
      ]
     },
     "metadata": {},
     "output_type": "display_data"
    }
   ],
   "source": [
    "Mab = (2*EI/5)*(4*theta_a + 2*theta_b) + Mfab\n",
    "Mba = (2*EI/5)*(2*theta_a + 4*theta_b) + Mfba\n",
    "display(Mab,Mba)"
   ]
  },
  {
   "cell_type": "code",
   "execution_count": 5,
   "metadata": {},
   "outputs": [
    {
     "data": {
      "image/png": "[encoded data removed]",
      "text/latex": [
       "$$EI \\theta_{b}$$"
      ],
      "text/plain": [
       "EI⋅θ_b"
      ]
     },
     "metadata": {},
     "output_type": "display_data"
    },
    {
     "data": {
      "image/png": "[encoded data removed]",
      "text/latex": [
       "$$\\frac{EI \\theta_{b}}{2}$$"
      ],
      "text/plain": [
       "EI⋅θ_b\n",
       "──────\n",
       "  2   "
      ]
     },
     "metadata": {},
     "output_type": "display_data"
    }
   ],
   "source": [
    "Mbc = (EI/4)*(4*theta_b + 2*theta_c) + Mfbc\n",
    "Mcb = (EI/4)*(2*theta_b + 4*theta_c) + Mfcb\n",
    "display(Mbc,Mcb)"
   ]
  },
  {
   "cell_type": "code",
   "execution_count": 6,
   "metadata": {},
   "outputs": [
    {
     "data": {
      "image/png": "[encoded data removed]",
      "text/latex": [
       "$$\\frac{4 EI \\theta_{b}}{3}$$"
      ],
      "text/plain": [
       "4⋅EI⋅θ_b\n",
       "────────\n",
       "   3    "
      ]
     },
     "metadata": {},
     "output_type": "display_data"
    },
    {
     "data": {
      "image/png": "[encoded data removed]",
      "text/latex": [
       "$$\\frac{2 EI \\theta_{b}}{3}$$"
      ],
      "text/plain": [
       "2⋅EI⋅θ_b\n",
       "────────\n",
       "   3    "
      ]
     },
     "metadata": {},
     "output_type": "display_data"
    }
   ],
   "source": [
    "Mbd = (EI/3)*(4*theta_b + 2*theta_d) + Mfbd\n",
    "Mdb = (EI/3)*(2*theta_b + 4*theta_d) + Mfdb\n",
    "display(Mbd,Mdb)"
   ]
  },
  {
   "cell_type": "markdown",
   "metadata": {},
   "source": [
    "## 4. Equilibrium Equation\n",
    "The sum of the moments acting on joint $b$ must be zero.\n",
    "\n",
    "Note that the negatives of the member end forces act on the joint."
   ]
  },
  {
   "cell_type": "code",
   "execution_count": 7,
   "metadata": {},
   "outputs": [
    {
     "data": {
      "image/png": "[encoded data removed]",
      "text/latex": [
       "$$\\frac{59 EI \\theta_{b}}{15} + 40.0$$"
      ],
      "text/plain": [
       "59⋅EI⋅θ_b       \n",
       "───────── + 40.0\n",
       "    15          "
      ]
     },
     "execution_count": 7,
     "metadata": {},
     "output_type": "execute_result"
    }
   ],
   "source": [
    "ee = (Mba + Mbc + Mbd)  # = 0, +ive ccw on joint\n",
    "ee"
   ]
  },
  {
   "cell_type": "markdown",
   "metadata": {},
   "source": [
    "## 5. Solve for displacement"
   ]
  },
  {
   "cell_type": "code",
   "execution_count": 8,
   "metadata": {},
   "outputs": [
    {
     "data": {
      "image/png": "[encoded data removed]",
      "text/latex": [
       "$$\\left \\{ \\theta_{b} : - \\frac{10.1694915254237}{EI}\\right \\}$$"
      ],
      "text/plain": [
       "⎧     -10.1694915254237 ⎫\n",
       "⎨θ_b: ──────────────────⎬\n",
       "⎩             EI        ⎭"
      ]
     },
     "execution_count": 8,
     "metadata": {},
     "output_type": "execute_result"
    }
   ],
   "source": [
    "ans = solve([ee],theta_b)\n",
    "ans"
   ]
  },
  {
   "cell_type": "markdown",
   "metadata": {},
   "source": [
    "## 6. Back-substitute to get member end moments"
   ]
  },
  {
   "cell_type": "code",
   "execution_count": 9,
   "metadata": {},
   "outputs": [
    {
     "data": {
      "image/png": "[encoded data removed]",
      "text/latex": [
       "$$23.728813559322$$"
      ],
      "text/plain": [
       "23.7288135593220"
      ]
     },
     "metadata": {},
     "output_type": "display_data"
    },
    {
     "data": {
      "image/png": "[encoded data removed]",
      "text/latex": [
       "$$-48.135593220339$$"
      ],
      "text/plain": [
       "-48.1355932203390"
      ]
     },
     "metadata": {},
     "output_type": "display_data"
    }
   ],
   "source": [
    "mab = Mab.subs(ans).n()\n",
    "mba = Mba.subs(ans).n()\n",
    "display(mba, mab)"
   ]
  },
  {
   "cell_type": "code",
   "execution_count": 10,
   "metadata": {},
   "outputs": [
    {
     "data": {
      "image/png": "[encoded data removed]",
      "text/latex": [
       "$$-10.1694915254237$$"
      ],
      "text/plain": [
       "-10.1694915254237"
      ]
     },
     "metadata": {},
     "output_type": "display_data"
    },
    {
     "data": {
      "image/png": "[encoded data removed]",
      "text/latex": [
       "$$-5.08474576271186$$"
      ],
      "text/plain": [
       "-5.08474576271186"
      ]
     },
     "metadata": {},
     "output_type": "display_data"
    }
   ],
   "source": [
    "mbc = Mbc.subs(ans).n()\n",
    "mcb = Mcb.subs(ans).n()\n",
    "display(mbc,mcb)"
   ]
  },
  {
   "cell_type": "code",
   "execution_count": 11,
   "metadata": {},
   "outputs": [
    {
     "data": {
      "image/png": "[encoded data removed]",
      "text/latex": [
       "$$-13.5593220338983$$"
      ],
      "text/plain": [
       "-13.5593220338983"
      ]
     },
     "metadata": {},
     "output_type": "display_data"
    },
    {
     "data": {
      "image/png": "[encoded data removed]",
      "text/latex": [
       "$$-6.77966101694915$$"
      ],
      "text/plain": [
       "-6.77966101694915"
      ]
     },
     "metadata": {},
     "output_type": "display_data"
    }
   ],
   "source": [
    "mbd = Mbd.subs(ans).n()\n",
    "mdb = Mdb.subs(ans).n()\n",
    "display(mbd,mdb)"
   ]
  },
  {
   "cell_type": "markdown",
   "metadata": {},
   "source": [
    "## 7. Check joint equilibrium"
   ]
  },
  {
   "cell_type": "code",
   "execution_count": 12,
   "metadata": {},
   "outputs": [
    {
     "data": {
      "image/png": "[encoded data removed]",
      "text/latex": [
       "$$8.88178419700125 \\cdot 10^{-15}$$"
      ],
      "text/plain": [
       "8.88178419700125e-15"
      ]
     },
     "execution_count": 12,
     "metadata": {},
     "output_type": "execute_result"
    }
   ],
   "source": [
    "# sum of moments acting on joint, +ive ccw\n",
    "mba+mbc+mbd"
   ]
  },
  {
   "cell_type": "markdown",
   "metadata": {},
   "source": [
    "## 8. Member end shears\n",
    "As there are no transverse loads and $bc$ and $bd$, the shears on those are constant (non-changing) over the whole length of each member."
   ]
  },
  {
   "cell_type": "code",
   "execution_count": 13,
   "metadata": {},
   "outputs": [
    {
     "data": {
      "image/png": "[encoded data removed]",
      "text/latex": [
       "$$52.8813559322034$$"
      ],
      "text/plain": [
       "52.8813559322034"
      ]
     },
     "metadata": {},
     "output_type": "display_data"
    },
    {
     "data": {
      "image/png": "[encoded data removed]",
      "text/latex": [
       "$$43.1186440677966$$"
      ],
      "text/plain": [
       "43.1186440677966"
      ]
     },
     "metadata": {},
     "output_type": "display_data"
    },
    {
     "data": {
      "image/png": "[encoded data removed]",
      "text/latex": [
       "$$3.8135593220339$$"
      ],
      "text/plain": [
       "3.81355932203390"
      ]
     },
     "metadata": {},
     "output_type": "display_data"
    },
    {
     "data": {
      "image/png": "[encoded data removed]",
      "text/latex": [
       "$$6.77966101694915$$"
      ],
      "text/plain": [
       "6.77966101694915"
      ]
     },
     "metadata": {},
     "output_type": "display_data"
    }
   ],
   "source": [
    "vab = -(mab + mba - 0.8*24*5*5/2)/5\n",
    "vba = 0.8*24*5 - vab\n",
    "vbc = -(mbc + mcb)/4\n",
    "vbd = -(mbd + mdb)/3\n",
    "display(vab,vba, vbc,vbd)"
   ]
  },
  {
   "cell_type": "markdown",
   "metadata": {},
   "source": [
    "## 9. Shear force diagram\n",
    "![Figure](problem-11-V.svg)"
   ]
  },
  {
   "cell_type": "markdown",
   "metadata": {},
   "source": [
    "## 10. Bending moment diagram\n",
    "![Figure](problem-11-M.svg)"
   ]
  },
  {
   "cell_type": "code",
   "execution_count": null,
   "metadata": {},
   "outputs": [],
   "source": []
  }
 ],
 "metadata": {
  "kernelspec": {
   "display_name": "Python 3",
   "language": "python",
   "name": "python3"
  },
  "language_info": {
   "codemirror_mode": {
    "name": "ipython",
    "version": 3
   },
   "file_extension": ".py",
   "mimetype": "text/x-python",
   "name": "python",
   "nbconvert_exporter": "python",
   "pygments_lexer": "ipython3",
   "version": "3.6.8"
  }
 },
 "nbformat": 4,
 "nbformat_minor": 2
}
