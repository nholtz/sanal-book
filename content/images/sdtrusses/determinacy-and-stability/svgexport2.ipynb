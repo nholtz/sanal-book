{
 "cells": [
  {
   "cell_type": "code",
   "execution_count": 1,
   "metadata": {},
   "outputs": [],
   "source": [
    "import sys\n",
    "sys.path[:0] = ['/usr/share/inkscape/extensions']\n",
    "import inkex\n",
    "import re"
   ]
  },
  {
   "cell_type": "code",
   "execution_count": 2,
   "metadata": {},
   "outputs": [],
   "source": [
    "class LayerFilter(inkex.Effect):\n",
    "    pass"
   ]
  },
  {
   "cell_type": "code",
   "execution_count": 3,
   "metadata": {},
   "outputs": [],
   "source": [
    "ns = 'http://www.inkscape.org/namespaces/inkscape'\n",
    "groupmode_tag = '{%s}groupmode' %(ns,)\n",
    "id_tag = 'id'\n",
    "label_tag = '{%s}label' % (ns,)\n",
    "style_tag = 'style'"
   ]
  },
  {
   "cell_type": "code",
   "execution_count": 4,
   "metadata": {},
   "outputs": [],
   "source": [
    "exports_file = 'svgexports'\n",
    "def read_exports():\n",
    "    f = open(exports_file,'r')\n",
    "    for line in f:\n",
    "        line = line.strip()\n",
    "        if line == '':\n",
    "            continue\n",
    "        if line.startswith('#'):\n",
    "            continue\n",
    "        fields = re.split(r'\\t+',line)\n",
    "        yield fields\n",
    "    f.close()"
   ]
  },
  {
   "cell_type": "code",
   "execution_count": 8,
   "metadata": {},
   "outputs": [
    {
     "name": "stdout",
     "output_type": "stream",
     "text": [
      "hextruss.svg ['Layer 1'] hextruss-1\n",
      "   <Element {http://www.w3.org/2000/svg}g at 0x7faef84f1648> step4 layer6 display:none\n",
      "   <Element {http://www.w3.org/2000/svg}g at 0x7faef84f16c8> step3 layer5 display:none\n",
      "   <Element {http://www.w3.org/2000/svg}g at 0x7faef84f1708> step2 layer4 display:none\n",
      "   <Element {http://www.w3.org/2000/svg}g at 0x7faef84f1b08> step1 layer3 display:none\n",
      "   <Element {http://www.w3.org/2000/svg}g at 0x7faef84f1b48> Paths layer2 display:none\n",
      "   <Element {http://www.w3.org/2000/svg}g at 0x7faef84f1688> Layer 1 layer1 display:inline\n",
      "hextruss.svg ['Layer 1', 'Paths'] hextruss-2\n",
      "   <Element {http://www.w3.org/2000/svg}g at 0x7faef84e6e88> step4 layer6 display:none\n",
      "   <Element {http://www.w3.org/2000/svg}g at 0x7faef84e6b08> step3 layer5 display:none\n",
      "   <Element {http://www.w3.org/2000/svg}g at 0x7faef84e6c88> step2 layer4 display:none\n",
      "   <Element {http://www.w3.org/2000/svg}g at 0x7faef84e6688> step1 layer3 display:none\n",
      "   <Element {http://www.w3.org/2000/svg}g at 0x7faef84e6948> Paths layer2 display:inline\n",
      "   <Element {http://www.w3.org/2000/svg}g at 0x7faef84e6348> Layer 1 layer1 display:inline\n",
      "hextruss.svg ['Layer 1', 'Paths', 'step1'] hextruss-3\n",
      "   <Element {http://www.w3.org/2000/svg}g at 0x7faef84e6c88> step4 layer6 display:none\n",
      "   <Element {http://www.w3.org/2000/svg}g at 0x7faef84e61c8> step3 layer5 display:none\n",
      "   <Element {http://www.w3.org/2000/svg}g at 0x7faef84e6088> step2 layer4 display:none\n",
      "   <Element {http://www.w3.org/2000/svg}g at 0x7faef84e6808> step1 layer3 display:inline\n",
      "   <Element {http://www.w3.org/2000/svg}g at 0x7faef84e6308> Paths layer2 display:inline\n",
      "   <Element {http://www.w3.org/2000/svg}g at 0x7faef84e6948> Layer 1 layer1 display:inline\n",
      "hextruss.svg ['Layer 1', 'Paths', 'step1', 'step2'] hextruss-4\n",
      "   <Element {http://www.w3.org/2000/svg}g at 0x7faef84e6088> step4 layer6 display:none\n",
      "   <Element {http://www.w3.org/2000/svg}g at 0x7faef84db808> step3 layer5 display:none\n",
      "   <Element {http://www.w3.org/2000/svg}g at 0x7faef84db888> step2 layer4 display:inline\n",
      "   <Element {http://www.w3.org/2000/svg}g at 0x7faef84db788> step1 layer3 display:inline\n",
      "   <Element {http://www.w3.org/2000/svg}g at 0x7faef84e5e88> Paths layer2 display:inline\n",
      "   <Element {http://www.w3.org/2000/svg}g at 0x7faef84e6308> Layer 1 layer1 display:inline\n",
      "hextruss.svg ['Layer 1', 'Paths', 'step1', 'step2', 'step3'] hextruss-5\n",
      "   <Element {http://www.w3.org/2000/svg}g at 0x7faef84db888> step4 layer6 display:none\n",
      "   <Element {http://www.w3.org/2000/svg}g at 0x7faef84f1688> step3 layer5 display:inline\n",
      "   <Element {http://www.w3.org/2000/svg}g at 0x7faef84f1408> step2 layer4 display:inline\n",
      "   <Element {http://www.w3.org/2000/svg}g at 0x7faef84f1548> step1 layer3 display:inline\n",
      "   <Element {http://www.w3.org/2000/svg}g at 0x7faef84f1508> Paths layer2 display:inline\n",
      "   <Element {http://www.w3.org/2000/svg}g at 0x7faef84e5e88> Layer 1 layer1 display:inline\n",
      "hextruss.svg ['Layer 1', 'Paths', 'step1', 'step2', 'step3', 'step4'] hextruss-6\n",
      "   <Element {http://www.w3.org/2000/svg}g at 0x7faef84f1408> step4 layer6 display:inline\n",
      "   <Element {http://www.w3.org/2000/svg}g at 0x7faef84f1648> step3 layer5 display:inline\n",
      "   <Element {http://www.w3.org/2000/svg}g at 0x7faef84f16c8> step2 layer4 display:inline\n",
      "   <Element {http://www.w3.org/2000/svg}g at 0x7faef84f1708> step1 layer3 display:inline\n",
      "   <Element {http://www.w3.org/2000/svg}g at 0x7faef84f1b08> Paths layer2 display:inline\n",
      "   <Element {http://www.w3.org/2000/svg}g at 0x7faef84f1508> Layer 1 layer1 display:inline\n"
     ]
    }
   ],
   "source": [
    "prev_svg = None\n",
    "prev_layers = []\n",
    "for svgfile,ids,targetbase in read_exports():\n",
    "    if svgfile == prev_svg:\n",
    "        Layers = prev_layers\n",
    "    else:\n",
    "        Layers = []\n",
    "        prev_svg = svgfile\n",
    "    if ids.startswith('+'):\n",
    "        ids = ids[1:]\n",
    "    else:\n",
    "        Layers = []\n",
    "    Layers = Layers + [x for x in ids.split(',') if x.strip() != '']\n",
    "    prev_layers = Layers\n",
    "    print(svgfile, Layers, targetbase)\n",
    "    dst = targetbase + '.svg'\n",
    "    if svgfile == dst:\n",
    "        raise Exception('Will not overwrite source file.')\n",
    "    lf = LayerFilter()\n",
    "    lf.parse(svgfile)\n",
    "    root = lf.document.getroot()\n",
    "    for el in root.getchildren():\n",
    "        if el.get(groupmode_tag) == 'layer':\n",
    "            s = 'display:inline' if el.get(label_tag) in Layers else 'display:none'\n",
    "            el.set(style_tag,s)\n",
    "            print('  ',el, el.get(label_tag),el.get(id_tag),el.get(style_tag))\n",
    "    \n",
    "    lf.document.write(dst)"
   ]
  },
  {
   "cell_type": "code",
   "execution_count": null,
   "metadata": {},
   "outputs": [],
   "source": []
  }
 ],
 "metadata": {
  "kernelspec": {
   "display_name": "Python 3",
   "language": "python",
   "name": "python3"
  },
  "language_info": {
   "codemirror_mode": {
    "name": "ipython",
    "version": 3
   },
   "file_extension": ".py",
   "mimetype": "text/x-python",
   "name": "python",
   "nbconvert_exporter": "python",
   "pygments_lexer": "ipython3",
   "version": "3.6.8"
  }
 },
 "nbformat": 4,
 "nbformat_minor": 2
}
