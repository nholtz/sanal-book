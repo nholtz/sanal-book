{
 "cells": [
  {
   "cell_type": "markdown",
   "metadata": {},
   "source": [
    "# Demonstration of Equilibrium for a Beam Structure\n",
    "The following beam structure may not be completely shown, though it is complete enough to\n",
    "discuss the principles of equilibrium.\n",
    "\n",
    "![Beam Structure](images/eq/eq-demo-2-01.svg)"
   ]
  },
  {
   "cell_type": "markdown",
   "metadata": {},
   "source": [
    "We will define some specific values and draw the Free Body Diagram.  At the left end (point $a$)\n",
    "there is complete fixity (against horizontal and vertical displacements, as well as against rotation),\n",
    "so there are correspondingly three forces, ($F_a$, $V_a$ and $M_a$).  At the right end\n",
    "(point $c$) there is only a constraint against vertical displacement and so there is one \n",
    "vertical force, $V_c$, at that point.\n",
    "\n",
    "![Beam FBD](images/eq/eq-demo-2-02.svg)"
   ]
  },
  {
   "cell_type": "markdown",
   "metadata": {},
   "source": [
    "Considerinng the above FBD, there are 4 unknown forces shown, but we have only 3 equations of\n",
    "equilibrium available.  That means there are an infinite number of sets of forces that satisfy\n",
    "equilibrium.  To demonstrate that, we will show 2 of them:\n",
    "\n",
    "![EQ Soln 1](images/eq/eq-demo-2-03.svg)"
   ]
  },
  {
   "cell_type": "markdown",
   "metadata": {},
   "source": [
    "The above forces are in equilibrium:"
   ]
  },
  {
   "cell_type": "code",
   "execution_count": 1,
   "metadata": {},
   "outputs": [
    {
     "data": {
      "text/plain": [
       "0"
      ]
     },
     "execution_count": 1,
     "metadata": {},
     "output_type": "execute_result"
    }
   ],
   "source": [
    "0       # sum Fx, +ive right"
   ]
  },
  {
   "cell_type": "code",
   "execution_count": 2,
   "metadata": {},
   "outputs": [
    {
     "data": {
      "text/plain": [
       "0"
      ]
     },
     "execution_count": 2,
     "metadata": {},
     "output_type": "execute_result"
    }
   ],
   "source": [
    "+50 + 50 - 100     # sum Fy, +ive up"
   ]
  },
  {
   "cell_type": "code",
   "execution_count": 3,
   "metadata": {},
   "outputs": [
    {
     "data": {
      "text/plain": [
       "0"
      ]
     },
     "execution_count": 3,
     "metadata": {},
     "output_type": "execute_result"
    }
   ],
   "source": [
    "+200 - 50*8 + 100*2     # sum Mc, +ive ccw"
   ]
  },
  {
   "cell_type": "markdown",
   "metadata": {},
   "source": [
    "But so is the following set of forces:\n",
    "\n",
    "![EQ Soln 2](images/eq/eq-demo-2-04.svg)"
   ]
  },
  {
   "cell_type": "code",
   "execution_count": 4,
   "metadata": {},
   "outputs": [
    {
     "data": {
      "text/plain": [
       "0"
      ]
     },
     "execution_count": 4,
     "metadata": {},
     "output_type": "execute_result"
    }
   ],
   "source": [
    "0       # sum Fx, +ive right"
   ]
  },
  {
   "cell_type": "code",
   "execution_count": 5,
   "metadata": {},
   "outputs": [
    {
     "data": {
      "text/plain": [
       "0"
      ]
     },
     "execution_count": 5,
     "metadata": {},
     "output_type": "execute_result"
    }
   ],
   "source": [
    "+40 + 60 - 100     # sum Fy, +ive up"
   ]
  },
  {
   "cell_type": "code",
   "execution_count": 6,
   "metadata": {},
   "outputs": [
    {
     "data": {
      "text/plain": [
       "0"
      ]
     },
     "execution_count": 6,
     "metadata": {},
     "output_type": "execute_result"
    }
   ],
   "source": [
    "+120 - 40*8 + 100*2     # sum Mc, +ive ccw"
   ]
  },
  {
   "cell_type": "markdown",
   "metadata": {},
   "source": [
    "So which set of forces, if either, is 'correct'?  It depends.  You have to know more about this\n",
    "beam than has been shown so far."
   ]
  },
  {
   "cell_type": "markdown",
   "metadata": {},
   "source": [
    "## a) It Is Statically Determinate"
   ]
  },
  {
   "cell_type": "markdown",
   "metadata": {},
   "source": [
    "If there are additional conditions specified where an internal force in the beam is required to\n",
    "be a specific value, then we have additional equiations of equilibrium available to us.  These are equilibrium equations we can write on a *different* FBD that do not introduce additional unknowns.\n",
    "\n",
    "For example, we might have a hinge in the beam\n",
    "at point $d$, 4m from the right support.  That specifies that the\n",
    "internal bending moment in the beam is zero at that support, and allows us to form a FBD on one side of the pin.  We choose a side that allows us to write an equilibrium equation that contains only\n",
    "one unknown; here the right side:\n",
    "\n",
    "![FBD Right Side](images/eq/eq-demo-2-03c.svg)"
   ]
  },
  {
   "cell_type": "markdown",
   "metadata": {},
   "source": [
    "Knowing the moment is 0 at point $d$, we can write an equilibrium equation $\\sum M_d = 0$ that does not\n",
    "reference either of the two new unknowns, $H_d$ nor $V_d$:\n",
    "\n",
    "$$\n",
    "\\begin{align}\n",
    "V_c\\times 4 - 100\\times (4-2) &=& 0\\\\\n",
    "V_c &=& 50\\\\\n",
    "\\end{align}\n",
    "$$\n",
    "\n",
    "With a hinge at that location, here is the only correct set of forces (that satisfy all 4 equilibrium\n",
    "equations):\n",
    "\n",
    "![Soln 1](images/eq/eq-demo-2-03b.svg)"
   ]
  },
  {
   "cell_type": "markdown",
   "metadata": {},
   "source": [
    "On the other hand, if the hinge is 5m from the right support, here are the only forces that\n",
    "satisfy all 4 quilibrium equations:\n",
    "\n",
    "![Soln 2](images/eq/eq-demo-2-04b.svg)"
   ]
  },
  {
   "cell_type": "markdown",
   "metadata": {},
   "source": [
    "## b) It Is Statically Indeterminate\n",
    "\n",
    "On the other hand, there may be no conditions that allow for extra equilbrium equations.\n",
    "\n",
    "If that is the case we must use knowledge of the elastic properties of the beam and this will\n",
    "allow us to develope a *compatibility* equation to choose a set of forces such that the beam\n",
    "deflections are correct.\n",
    "\n",
    "For example, if there were no internal hinge, we could work out the vertical deflection at point\n",
    "$c$ for each of the set of forces above.  It is quite likely that the resulting deflection would not be zero,\n",
    "but we know it should be (the support constrains the vertical deflection to be zero).  In that case,\n",
    "neither set of forces is correct."
   ]
  },
  {
   "cell_type": "code",
   "execution_count": null,
   "metadata": {},
   "outputs": [],
   "source": []
  }
 ],
 "metadata": {
  "kernelspec": {
   "display_name": "Python 3",
   "language": "python",
   "name": "python3"
  },
  "language_info": {
   "codemirror_mode": {
    "name": "ipython",
    "version": 3
   },
   "file_extension": ".py",
   "mimetype": "text/x-python",
   "name": "python",
   "nbconvert_exporter": "python",
   "pygments_lexer": "ipython3",
   "version": "3.6.8"
  }
 },
 "nbformat": 4,
 "nbformat_minor": 2
}
